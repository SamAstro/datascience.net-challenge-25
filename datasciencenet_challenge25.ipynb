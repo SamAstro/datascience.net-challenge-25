{
 "cells": [
  {
   "cell_type": "markdown",
   "metadata": {},
   "source": [
    "# Analyse des données du challenge 25 de [datascience.net](http://www.datascience.net)\n",
    "\n",
    "Ceci est le notebook de ma solution au challenge 25 *Le Meilleur Data Scientist de France* de [datascience.net](http://www.datascience.net).\n",
    "\n",
    "\n",
    "---\n",
    "\n",
    "* **Modèle actuel :** Random Forest avec 200 estimators\n",
    "\n",
    "---\n",
    "* **Résultat au 13/10/2016 :** 29ème avec un score de $\\sim$30%.\n",
    "* **Résultat final :** n/a\n",
    "\n",
    "---"
   ]
  },
  {
   "cell_type": "markdown",
   "metadata": {},
   "source": [
    "## Importation des librairies\n",
    "Commençons par importer les librairies nécessaires pour notre analyse"
   ]
  },
  {
   "cell_type": "code",
   "execution_count": 1,
   "metadata": {
    "collapsed": false
   },
   "outputs": [],
   "source": [
    "import pandas as pd\n",
    "import numpy as np\n",
    "import seaborn as sns\n",
    "from sklearn.preprocessing import LabelEncoder\n",
    "from sklearn.model_selection import KFold\n",
    "from sklearn.ensemble import RandomForestRegressor\n",
    "from sklearn.model_selection import GridSearchCV\n",
    "import matplotlib.pyplot as plt\n",
    "%matplotlib inline\n",
    "from sklearn.model_selection import ShuffleSplit, train_test_split"
   ]
  },
  {
   "cell_type": "markdown",
   "metadata": {},
   "source": [
    "Continuons en spécifiant quelques paramètres esthétiques pour les outputs."
   ]
  },
  {
   "cell_type": "code",
   "execution_count": 2,
   "metadata": {
    "collapsed": false
   },
   "outputs": [],
   "source": [
    "np.random.seed(sum(map(ord, \"aesthetics\")))\n",
    "sns.set_context('notebook')\n",
    "\n",
    "#pd.set_option('display.mpl_style', 'default') # Make the graphs a bit prettier\n",
    "plt.style.use('bmh')\n",
    "\n",
    "plt.rcParams['figure.figsize'] = (15, 5)\n",
    "\n",
    "# Set some Pandas options\n",
    "pd.set_option('display.notebook_repr_html', True)\n",
    "pd.set_option('display.max_columns', 99) # permet de voir toutes les colonnes\n",
    "pd.set_option('display.max_rows', 25)\n",
    "pd.options.display.max_colwidth = 50"
   ]
  },
  {
   "cell_type": "markdown",
   "metadata": {},
   "source": [
    "## Importation des données et visualisation\n",
    "Nous allons ensuite importer les données à analyser et en visualiser les 5 premiers éléments de chaque dataset."
   ]
  },
  {
   "cell_type": "code",
   "execution_count": 3,
   "metadata": {
    "collapsed": false
   },
   "outputs": [
    {
     "name": "stdout",
     "output_type": "stream",
     "text": [
      "                                             libelle  libelle_plaquette  \\\n",
      "0  3 plaquette(s) thermoformée(s) PVC-Aluminium d...                  1   \n",
      "1  plaquette(s) thermoformée(s) aluminium de 28 c...                  1   \n",
      "2  plaquette(s) thermoformée(s) PVC-aluminium de ...                  1   \n",
      "3  30 sachet(s)-dose(s) papier aluminium complexe...                  0   \n",
      "4  plaquette(s) thermoformée(s) PVC-Aluminium de ...                  1   \n",
      "\n",
      "   libelle_ampoule  libelle_flacon  libelle_tube  libelle_stylo  \\\n",
      "0                0               0             0              0   \n",
      "1                0               0             0              0   \n",
      "2                0               0             0              0   \n",
      "3                0               0             0              0   \n",
      "4                0               0             0              0   \n",
      "\n",
      "   libelle_seringue  libelle_pilulier  libelle_sachet  libelle_comprime  \\\n",
      "0                 0                 0               0                 1   \n",
      "1                 0                 0               0                 1   \n",
      "2                 0                 0               0                 0   \n",
      "3                 0                 0               1                 0   \n",
      "4                 0                 0               0                 1   \n",
      "\n",
      "   libelle_gelule  libelle_film  libelle_poche  libelle_capsule  nb_plaquette  \\\n",
      "0               0             0              0                0             3   \n",
      "1               0             0              0                0             0   \n",
      "2               1             0              0                0             0   \n",
      "3               0             0              0                0             0   \n",
      "4               0             0              0                0             0   \n",
      "\n",
      "   nb_ampoule  nb_flacon  nb_tube  nb_stylo  nb_seringue  nb_pilulier  \\\n",
      "0           0          0        0         0            0            0   \n",
      "1           0          0        0         0            0            0   \n",
      "2           0          0        0         0            0            0   \n",
      "3           0          0        0         0            0            0   \n",
      "4           0          0        0         0            0            0   \n",
      "\n",
      "   nb_sachet  nb_comprime  nb_gelule  nb_film  nb_poche  nb_capsule  nb_ml  \\\n",
      "0          0           28          0        0         0           0    0.0   \n",
      "1          0           28          0        0         0           0    0.0   \n",
      "2          0            0         30        0         0           0    0.0   \n",
      "3         30            0          0        0         0           0    0.0   \n",
      "4          0           30          0        0         0           0    0.0   \n",
      "\n",
      "                statut                              etat commerc agrement col  \\\n",
      "0  Présentation active          Déclaration de commercialisation          oui   \n",
      "1  Présentation active          Déclaration de commercialisation          oui   \n",
      "2  Présentation active          Déclaration de commercialisation          oui   \n",
      "3  Présentation active          Déclaration de commercialisation          oui   \n",
      "4  Présentation active  Déclaration d'arrêt de commercialisation          non   \n",
      "\n",
      "  tx rembours                     forme pharma voies admin  \\\n",
      "0         65%               comprimé pelliculé       orale   \n",
      "1         65%               comprimé à croquer       orale   \n",
      "2         65%    gélule à libération prolongée       orale   \n",
      "3         65%  granulés à libération prolongée       orale   \n",
      "4        100%               comprimé pelliculé       orale   \n",
      "\n",
      "          statut admin  date declar annee  date amm annee  \\\n",
      "0  Autorisation active               2014            2014   \n",
      "1  Autorisation active               2013            2009   \n",
      "2  Autorisation active               2000            1996   \n",
      "3  Autorisation active               2005            2004   \n",
      "4  Autorisation active               2015            2010   \n",
      "\n",
      "                              type proc  \\\n",
      "0               Procédure décentralisée   \n",
      "1  Procédure de reconnaissance mutuelle   \n",
      "2                   Procédure nationale   \n",
      "3                   Procédure nationale   \n",
      "4                   Procédure nationale   \n",
      "\n",
      "                                   titulaires  \\\n",
      "0   MAJORELLE LUXEMBOURG SOPARFI (LUXEMBOURG)   \n",
      "1                                  TEVA SANTE   \n",
      "2                                   MYLAN SAS   \n",
      "3                       SANOFI AVENTIS FRANCE   \n",
      "4                                  TEVA SANTE   \n",
      "\n",
      "                               substances   prix  \n",
      "0                             DÉSOGESTREL   2.83  \n",
      "1  MONTÉLUKAST ACIDE, MONTÉLUKAST SODIQUE  14.30  \n",
      "2               CHLORHYDRATE DE DILTIAZEM   5.66  \n",
      "3   ACIDE VALPROÏQUE, VALPROATE DE SODIUM  24.27  \n",
      "4                               LÉTROZOLE  59.94  \n",
      "   id                                            libelle  libelle_plaquette  \\\n",
      "0   1  plaquette(s) thermoformée(s) polyamide alumini...                  1   \n",
      "1   2  plaquette(s) thermoformée(s) PVC PVDC aluminiu...                  1   \n",
      "2   3  plaquette(s) thermoformée(s) PVC-Aluminium de ...                  1   \n",
      "3   4  5 cartouche(s) en verre de 3 ml dans stylo pré...                  0   \n",
      "4   5  5 poche(s) à 3 compartiments polyamide polypro...                  0   \n",
      "\n",
      "   libelle_ampoule  libelle_flacon  libelle_tube  libelle_stylo  \\\n",
      "0                0               0             0              0   \n",
      "1                0               0             0              0   \n",
      "2                0               0             0              0   \n",
      "3                0               0             0              1   \n",
      "4                0               0             0              0   \n",
      "\n",
      "   libelle_seringue  libelle_pilulier  libelle_sachet  libelle_comprime  \\\n",
      "0                 0                 0               0                 1   \n",
      "1                 0                 0               0                 0   \n",
      "2                 0                 0               0                 1   \n",
      "3                 0                 0               0                 0   \n",
      "4                 0                 0               0                 0   \n",
      "\n",
      "   libelle_gelule  libelle_film  libelle_poche  libelle_capsule  nb_plaquette  \\\n",
      "0               0             0              0                0             0   \n",
      "1               0             0              0                1             0   \n",
      "2               0             0              0                0             0   \n",
      "3               0             0              0                0             0   \n",
      "4               0             0              1                0             0   \n",
      "\n",
      "   nb_ampoule  nb_flacon  nb_tube  nb_stylo  nb_seringue  nb_pilulier  \\\n",
      "0           0          0        0         0            0            0   \n",
      "1           0          0        0         0            0            0   \n",
      "2           0          0        0         0            0            0   \n",
      "3           0          0        0         0            0            0   \n",
      "4           0          0        0         0            0            0   \n",
      "\n",
      "   nb_sachet  nb_comprime  nb_gelule  nb_film  nb_poche  nb_capsule   nb_ml  \\\n",
      "0          0           14          0        0         0           0     0.0   \n",
      "1          0            0          0        0         0           6     0.0   \n",
      "2          0           84          0        0         0           0     0.0   \n",
      "3          0            0          0        0         0           0     3.0   \n",
      "4          0            0          0        0         5           0  1875.0   \n",
      "\n",
      "                statut                              etat commerc agrement col  \\\n",
      "0  Présentation active  Déclaration d'arrêt de commercialisation          non   \n",
      "1  Présentation active          Déclaration de commercialisation          non   \n",
      "2  Présentation active  Déclaration d'arrêt de commercialisation          non   \n",
      "3  Présentation active  Déclaration d'arrêt de commercialisation          non   \n",
      "4  Présentation active          Déclaration de commercialisation          oui   \n",
      "\n",
      "  tx rembours                  forme pharma    voies admin  \\\n",
      "0         65%  comprimé gastro-résistant(e)          orale   \n",
      "1         30%                       capsule       vaginale   \n",
      "2         65%                      comprimé          orale   \n",
      "3         65%         suspension injectable   sous-cutanée   \n",
      "4         65%       émulsion pour perfusion  intraveineuse   \n",
      "\n",
      "           statut admin  date declar annee  date amm annee  \\\n",
      "0   Autorisation active               2013            2008   \n",
      "1   Autorisation active               2012            1997   \n",
      "2  Autorisation abrogée               2013            2006   \n",
      "3   Autorisation active               2012            2000   \n",
      "4   Autorisation active               2011            2011   \n",
      "\n",
      "                              type proc                   titulaires  \\\n",
      "0  Procédure de reconnaissance mutuelle                   TEVA SANTE   \n",
      "1                   Procédure nationale       INNOTECH INTERNATIONAL   \n",
      "2                   Procédure nationale               ACTAVIS FRANCE   \n",
      "3                 Procédure centralisée   SANOFI AVENTIS (ALLEMAGNE)   \n",
      "4               Procédure décentralisée            B BRAUN MELSUNGEN   \n",
      "\n",
      "                                          substances  \n",
      "0   PANTOPRAZOLE SODIQUE SESQUIHYDRATÉ, PANTOPRAZOLE  \n",
      "1  NYSTATINE, SULFATE DE POLYMYXINE B, SULFATE DE...  \n",
      "2                               PRAVASTATINE SODIQUE  \n",
      "3  INSULINE HUMAINE RECOMBINANTE ISOPHANE BIPHASI...  \n",
      "4  PHOSPHATE MONOSODIQUE DIHYDRATÉ, ARGININE, MAG...  \n"
     ]
    }
   ],
   "source": [
    "data_train = pd.read_csv('../data_challenge/boites_medicaments_train.csv', encoding='utf-8', sep=';')\n",
    "data_test = pd.read_csv('../data_challenge/boites_medicaments_test.csv', encoding='utf-8', sep=';')\n",
    "print(data_train.head(5))\n",
    "print(data_test.head(5))"
   ]
  },
  {
   "cell_type": "markdown",
   "metadata": {},
   "source": [
    "## Analyse descriptive\n",
    "### Structure des datasets"
   ]
  },
  {
   "cell_type": "code",
   "execution_count": 4,
   "metadata": {
    "collapsed": false
   },
   "outputs": [
    {
     "name": "stdout",
     "output_type": "stream",
     "text": [
      "Les données train ont 8564 observables, de 41 variables chacune.\n",
      "Les données test ont 3671 observables, de 41 variables chacune.\n",
      "\n",
      "----- Data train Keys -----\n",
      "libelle\n",
      "libelle_plaquette\n",
      "libelle_ampoule\n",
      "libelle_flacon\n",
      "libelle_tube\n",
      "libelle_stylo\n",
      "libelle_seringue\n",
      "libelle_pilulier\n",
      "libelle_sachet\n",
      "libelle_comprime\n",
      "libelle_gelule\n",
      "libelle_film\n",
      "libelle_poche\n",
      "libelle_capsule\n",
      "nb_plaquette\n",
      "nb_ampoule\n",
      "nb_flacon\n",
      "nb_tube\n",
      "nb_stylo\n",
      "nb_seringue\n",
      "nb_pilulier\n",
      "nb_sachet\n",
      "nb_comprime\n",
      "nb_gelule\n",
      "nb_film\n",
      "nb_poche\n",
      "nb_capsule\n",
      "nb_ml\n",
      "statut\n",
      "etat commerc\n",
      "agrement col\n",
      "tx rembours\n",
      "forme pharma\n",
      "voies admin\n",
      "statut admin\n",
      "date declar annee\n",
      "date amm annee\n",
      "type proc\n",
      "titulaires\n",
      "substances\n",
      "prix\n",
      "----- Data test Keys -----\n",
      "id\n",
      "libelle\n",
      "libelle_plaquette\n",
      "libelle_ampoule\n",
      "libelle_flacon\n",
      "libelle_tube\n",
      "libelle_stylo\n",
      "libelle_seringue\n",
      "libelle_pilulier\n",
      "libelle_sachet\n",
      "libelle_comprime\n",
      "libelle_gelule\n",
      "libelle_film\n",
      "libelle_poche\n",
      "libelle_capsule\n",
      "nb_plaquette\n",
      "nb_ampoule\n",
      "nb_flacon\n",
      "nb_tube\n",
      "nb_stylo\n",
      "nb_seringue\n",
      "nb_pilulier\n",
      "nb_sachet\n",
      "nb_comprime\n",
      "nb_gelule\n",
      "nb_film\n",
      "nb_poche\n",
      "nb_capsule\n",
      "nb_ml\n",
      "statut\n",
      "etat commerc\n",
      "agrement col\n",
      "tx rembours\n",
      "forme pharma\n",
      "voies admin\n",
      "statut admin\n",
      "date declar annee\n",
      "date amm annee\n",
      "type proc\n",
      "titulaires\n",
      "substances\n"
     ]
    }
   ],
   "source": [
    "print('Les données train ont ' + str(data_train.shape[0]) + ' observables, de ' + str(data_train.shape[1]) + ' variables chacune.')\n",
    "print('Les données test ont ' + str(data_test.shape[0]) + ' observables, de ' + str(data_test.shape[1]) + ' variables chacune.')\n",
    "print()\n",
    "print('----- Data train Keys -----')\n",
    "for k in data_train.keys():\n",
    "    print (k)\n",
    "print('----- Data test Keys -----')\n",
    "for k in data_test.keys():\n",
    "    print(k) "
   ]
  },
  {
   "cell_type": "markdown",
   "metadata": {},
   "source": [
    "Il est **très** important de lire la [description des variables](https://www.datascience.net/fr/challenge/25/details#tab_brief71), afin de correctement appréhender le problème."
   ]
  },
  {
   "cell_type": "markdown",
   "metadata": {},
   "source": [
    "### Que cherchons-nous à prédire?\n",
    "Nous cherchons à développer un modèle prédictif permettant d'estimer le coût d'une boîte de médicament.\n",
    "\n",
    "Commençons donc par étudier la distribution des prix dans les données train."
   ]
  },
  {
   "cell_type": "markdown",
   "metadata": {},
   "source": [
    "### Description des données"
   ]
  },
  {
   "cell_type": "code",
   "execution_count": 5,
   "metadata": {
    "collapsed": false
   },
   "outputs": [
    {
     "data": {
      "text/plain": [
       "6.36     364\n",
       "18.63    333\n",
       "8.14      93\n",
       "23.71     86\n",
       "7.55      81\n",
       "1.08      79\n",
       "3.94      79\n",
       "7.21      74\n",
       "5.27      68\n",
       "3.49      65\n",
       "8.13      57\n",
       "5.91      48\n",
       "        ... \n",
       "31.09      1\n",
       "58.46      1\n",
       "56.40      1\n",
       "54.40      1\n",
       "50.27      1\n",
       "49.52      1\n",
       "48.65      1\n",
       "25.12      1\n",
       "46.15      1\n",
       "45.21      1\n",
       "23.12      1\n",
       "0.75       1\n",
       "Name: prix, dtype: int64"
      ]
     },
     "execution_count": 5,
     "metadata": {},
     "output_type": "execute_result"
    }
   ],
   "source": [
    "data_train['prix'].value_counts()"
   ]
  },
  {
   "cell_type": "code",
   "execution_count": 6,
   "metadata": {
    "collapsed": false
   },
   "outputs": [
    {
     "data": {
      "text/plain": [
       "<matplotlib.text.Text at 0x1069e9e10>"
      ]
     },
     "execution_count": 6,
     "metadata": {},
     "output_type": "execute_result"
    },
    {
     "data": {
      "image/png": "[encoded data removed]",
      "text/plain": [
       "<matplotlib.figure.Figure at 0x107f2cc88>"
      ]
     },
     "metadata": {},
     "output_type": "display_data"
    }
   ],
   "source": [
    "ax = data_train['prix'].hist()\n",
    "ax.set_xlabel('prix [euros]')\n",
    "ax.set_ylabel('nombres de medicaments')"
   ]
  },
  {
   "cell_type": "markdown",
   "metadata": {},
   "source": [
    "Ce n'est pas très joli. Essayons d'améliorer les choses en prenant le logarithme des prix."
   ]
  },
  {
   "cell_type": "code",
   "execution_count": 7,
   "metadata": {
    "collapsed": false
   },
   "outputs": [
    {
     "data": {
      "text/plain": [
       "<matplotlib.text.Text at 0x106ac08d0>"
      ]
     },
     "execution_count": 7,
     "metadata": {},
     "output_type": "execute_result"
    },
    {
     "data": {
      "image/png": "[encoded data removed]",
      "text/plain": [
       "<matplotlib.figure.Figure at 0x106a87b70>"
      ]
     },
     "metadata": {},
     "output_type": "display_data"
    }
   ],
   "source": [
    "data_train['logprix'] = data_train['prix'].apply(np.log)\n",
    "ax = data_train['logprix'].hist()\n",
    "ax.set_xlabel('log(prix [euros])')\n",
    "ax.set_ylabel('nombres de medicaments')"
   ]
  },
  {
   "cell_type": "markdown",
   "metadata": {},
   "source": [
    "C'est un peu plus joli. Nous avons une belle distribution, proche d'une gaussienne."
   ]
  },
  {
   "cell_type": "markdown",
   "metadata": {},
   "source": [
    "### Critère de performance\n",
    "Le challenge utilise la métrique [MAPE](https://en.wikipedia.org/wiki/Mean_absolute_percentage_error). Celle-ci n'étant pas disponible dans sklearn, nous la codons manuellement :"
   ]
  },
  {
   "cell_type": "code",
   "execution_count": 8,
   "metadata": {
    "collapsed": true
   },
   "outputs": [],
   "source": [
    "# Mean Absolute Percentage Error\n",
    "def mape_error(y_true, y_pred): \n",
    "    return np.mean(np.abs((y_true - y_pred) / y_true)) * 100"
   ]
  },
  {
   "cell_type": "markdown",
   "metadata": {},
   "source": [
    "## Préparation des données\n",
    "### Séparation des différents types de variables\n",
    "Nous constatons, en analysant les variables disponibles, qu'elles sont de quatre types différentes :\n",
    "* numérique  \n",
    "* catégorielle  \n",
    "* date  \n",
    "* texte\n",
    "\n",
    "Nous constatons également que les taux de remboursements (qui peuvent jouer un role important sur le prix final) sont des *string* ayant un symbol $%$ à la fin. Nettoyons cette variable et convertissons la en *int*."
   ]
  },
  {
   "cell_type": "code",
   "execution_count": 9,
   "metadata": {
    "collapsed": false
   },
   "outputs": [],
   "source": [
    "data_train['reimburse rate'] = (data_train[\"tx rembours\"].str.rstrip(\"%\")).apply(int)\n",
    "data_test['reimburse rate'] = (data_test[\"tx rembours\"].str.rstrip(\"%\")).apply(int)"
   ]
  },
  {
   "cell_type": "code",
   "execution_count": 10,
   "metadata": {
    "collapsed": false
   },
   "outputs": [
    {
     "data": {
      "text/plain": [
       "0     65\n",
       "1     65\n",
       "2     65\n",
       "3     65\n",
       "4    100\n",
       "5    100\n",
       "6    100\n",
       "7     65\n",
       "8     65\n",
       "9     65\n",
       "Name: reimburse rate, dtype: int64"
      ]
     },
     "execution_count": 10,
     "metadata": {},
     "output_type": "execute_result"
    }
   ],
   "source": [
    "data_train['reimburse rate'].head(10)"
   ]
  },
  {
   "cell_type": "markdown",
   "metadata": {},
   "source": [
    "### Séparations des variables à plusieurs éléments\n",
    "Une autre chose que nous constatons est que les variables *voies admin*, *titulaires* et *substances* peuvent comporter plusieurs éléments séparés par une virgule. \"Explosons\" ces variables."
   ]
  },
  {
   "cell_type": "code",
   "execution_count": 11,
   "metadata": {
    "collapsed": false
   },
   "outputs": [],
   "source": [
    "temp = data_train['voies admin'].apply(lambda st : st.split(','))\n",
    "admins = set([l for j in temp for l in j])\n",
    "for voie in admins:\n",
    "    data_train[voie] = data_train['voies admin'].apply(lambda x : 1 if voie in x else 0)\n",
    "    data_test[voie] = data_test['voies admin'].apply(lambda x : 1 if voie in x else 0)"
   ]
  },
  {
   "cell_type": "code",
   "execution_count": 12,
   "metadata": {
    "collapsed": true
   },
   "outputs": [],
   "source": [
    "temp = data_train['titulaires'].apply(lambda st : st.split(','))\n",
    "labos = set([l for j in temp for l in j])\n",
    "for lab in labos:\n",
    "    data_train[lab] = data_train['titulaires'].apply(lambda x : 1 if lab in x else 0)\n",
    "    data_test[lab] = data_test['titulaires'].apply(lambda x : 1 if lab in x else 0)"
   ]
  },
  {
   "cell_type": "code",
   "execution_count": 13,
   "metadata": {
    "collapsed": true
   },
   "outputs": [],
   "source": [
    "temp = data_train['substances'].apply(lambda st : st.split(','))\n",
    "data_train['nb_sub'] = data_train['substances'].apply(lambda st : len(st.split(',')))\n",
    "data_test['nb_sub'] = data_test['substances'].apply(lambda st : len(st.split(',')))\n",
    "subs = set([l for j in temp for l in j])\n",
    "for s in subs:\n",
    "    data_train[s] = data_train['substances'].apply(lambda x : 1 if s in x else 0)\n",
    "    data_test[s] = data_test['substances'].apply(lambda x : 1 if s in x else 0)"
   ]
  },
  {
   "cell_type": "code",
   "execution_count": 14,
   "metadata": {
    "collapsed": false
   },
   "outputs": [],
   "source": [
    "# variables numériques\n",
    "var_lib = ['libelle_plaquette', 'libelle_ampoule', 'libelle_flacon', \n",
    "            'libelle_tube', 'libelle_stylo', 'libelle_seringue',\n",
    "            'libelle_pilulier', 'libelle_sachet', 'libelle_comprime', \n",
    "            'libelle_gelule', 'libelle_film', 'libelle_poche',\n",
    "            'libelle_capsule']\n",
    "var_nb = ['nb_plaquette', 'nb_ampoule', \n",
    "            'nb_flacon', 'nb_tube', 'nb_stylo', 'nb_seringue',\n",
    "            'nb_pilulier', 'nb_sachet', 'nb_comprime', 'nb_gelule', \n",
    "            'nb_film', 'nb_poche', 'nb_capsule', 'nb_ml']\n",
    "var_num = var_lib + var_nb+ ['reimburse rate']\n",
    "# variables catégorielles\n",
    "var_cat = ['statut', 'etat commerc', 'agrement col', 'tx rembours',\n",
    "          'statut admin', 'type proc', 'forme pharma']\n",
    "# variables dates\n",
    "var_dates = ['date declar annee', 'date amm annee']\n",
    "\n",
    "# variable texte\n",
    "var_txt = ['libelle', 'titulaires', 'substances']\n",
    "\n",
    "var_admin = list(admins) # voies admin\n",
    "var_lab = list(labos) # titulaires\n",
    "var_sub = list(subs)+['nb_sub'] # substances"
   ]
  },
  {
   "cell_type": "markdown",
   "metadata": {},
   "source": [
    "### Encodage des variables catégorielles\n",
    "Nous avons besoin de transformer les variables catégorielles en nombre, afin de pouvoir les utiliser dans les algorithmes de machine learning (qui nécessitent des nombres comme paramètres d'entrée).\n",
    "\n",
    "Pour cela, nous allons utiliser la fonction [*LabelEncoder()*](http://scikit-learn.org/stable/modules/generated/sklearn.preprocessing.LabelEncoder.html)"
   ]
  },
  {
   "cell_type": "code",
   "execution_count": 15,
   "metadata": {
    "collapsed": false
   },
   "outputs": [
    {
     "data": {
      "text/html": [
       "<div>\n",
       "<table border=\"1\" class=\"dataframe\">\n",
       "  <thead>\n",
       "    <tr style=\"text-align: right;\">\n",
       "      <th></th>\n",
       "      <th>statut</th>\n",
       "      <th>etat commerc</th>\n",
       "      <th>agrement col</th>\n",
       "      <th>tx rembours</th>\n",
       "      <th>statut admin</th>\n",
       "      <th>type proc</th>\n",
       "      <th>forme pharma</th>\n",
       "    </tr>\n",
       "  </thead>\n",
       "  <tbody>\n",
       "    <tr>\n",
       "      <th>0</th>\n",
       "      <td>Présentation active</td>\n",
       "      <td>Déclaration de commercialisation</td>\n",
       "      <td>oui</td>\n",
       "      <td>65%</td>\n",
       "      <td>Autorisation active</td>\n",
       "      <td>Procédure décentralisée</td>\n",
       "      <td>comprimé pelliculé</td>\n",
       "    </tr>\n",
       "    <tr>\n",
       "      <th>1</th>\n",
       "      <td>Présentation active</td>\n",
       "      <td>Déclaration de commercialisation</td>\n",
       "      <td>oui</td>\n",
       "      <td>65%</td>\n",
       "      <td>Autorisation active</td>\n",
       "      <td>Procédure de reconnaissance mutuelle</td>\n",
       "      <td>comprimé à croquer</td>\n",
       "    </tr>\n",
       "    <tr>\n",
       "      <th>2</th>\n",
       "      <td>Présentation active</td>\n",
       "      <td>Déclaration de commercialisation</td>\n",
       "      <td>oui</td>\n",
       "      <td>65%</td>\n",
       "      <td>Autorisation active</td>\n",
       "      <td>Procédure nationale</td>\n",
       "      <td>gélule à libération prolongée</td>\n",
       "    </tr>\n",
       "    <tr>\n",
       "      <th>3</th>\n",
       "      <td>Présentation active</td>\n",
       "      <td>Déclaration de commercialisation</td>\n",
       "      <td>oui</td>\n",
       "      <td>65%</td>\n",
       "      <td>Autorisation active</td>\n",
       "      <td>Procédure nationale</td>\n",
       "      <td>granulés à libération prolongée</td>\n",
       "    </tr>\n",
       "    <tr>\n",
       "      <th>4</th>\n",
       "      <td>Présentation active</td>\n",
       "      <td>Déclaration d'arrêt de commercialisation</td>\n",
       "      <td>non</td>\n",
       "      <td>100%</td>\n",
       "      <td>Autorisation active</td>\n",
       "      <td>Procédure nationale</td>\n",
       "      <td>comprimé pelliculé</td>\n",
       "    </tr>\n",
       "    <tr>\n",
       "      <th>5</th>\n",
       "      <td>Présentation active</td>\n",
       "      <td>Déclaration de commercialisation</td>\n",
       "      <td>oui</td>\n",
       "      <td>100%</td>\n",
       "      <td>Autorisation active</td>\n",
       "      <td>Procédure nationale</td>\n",
       "      <td>comprimé</td>\n",
       "    </tr>\n",
       "    <tr>\n",
       "      <th>6</th>\n",
       "      <td>Présentation active</td>\n",
       "      <td>Déclaration de commercialisation</td>\n",
       "      <td>oui</td>\n",
       "      <td>100%</td>\n",
       "      <td>Autorisation active</td>\n",
       "      <td>Procédure centralisée</td>\n",
       "      <td>capsule molle</td>\n",
       "    </tr>\n",
       "    <tr>\n",
       "      <th>7</th>\n",
       "      <td>Présentation active</td>\n",
       "      <td>Déclaration de commercialisation</td>\n",
       "      <td>oui</td>\n",
       "      <td>65%</td>\n",
       "      <td>Autorisation active</td>\n",
       "      <td>Procédure de reconnaissance mutuelle</td>\n",
       "      <td>comprimé</td>\n",
       "    </tr>\n",
       "    <tr>\n",
       "      <th>8</th>\n",
       "      <td>Présentation active</td>\n",
       "      <td>Déclaration d'arrêt de commercialisation</td>\n",
       "      <td>oui</td>\n",
       "      <td>65%</td>\n",
       "      <td>Autorisation active</td>\n",
       "      <td>Procédure nationale</td>\n",
       "      <td>comprimé sécable</td>\n",
       "    </tr>\n",
       "    <tr>\n",
       "      <th>9</th>\n",
       "      <td>Présentation active</td>\n",
       "      <td>Déclaration de commercialisation</td>\n",
       "      <td>non</td>\n",
       "      <td>65%</td>\n",
       "      <td>Autorisation active</td>\n",
       "      <td>Procédure nationale</td>\n",
       "      <td>comprimé pelliculé</td>\n",
       "    </tr>\n",
       "  </tbody>\n",
       "</table>\n",
       "</div>"
      ],
      "text/plain": [
       "                statut                              etat commerc agrement col  \\\n",
       "0  Présentation active          Déclaration de commercialisation          oui   \n",
       "1  Présentation active          Déclaration de commercialisation          oui   \n",
       "2  Présentation active          Déclaration de commercialisation          oui   \n",
       "3  Présentation active          Déclaration de commercialisation          oui   \n",
       "4  Présentation active  Déclaration d'arrêt de commercialisation          non   \n",
       "5  Présentation active          Déclaration de commercialisation          oui   \n",
       "6  Présentation active          Déclaration de commercialisation          oui   \n",
       "7  Présentation active          Déclaration de commercialisation          oui   \n",
       "8  Présentation active  Déclaration d'arrêt de commercialisation          oui   \n",
       "9  Présentation active          Déclaration de commercialisation          non   \n",
       "\n",
       "  tx rembours         statut admin                             type proc  \\\n",
       "0         65%  Autorisation active               Procédure décentralisée   \n",
       "1         65%  Autorisation active  Procédure de reconnaissance mutuelle   \n",
       "2         65%  Autorisation active                   Procédure nationale   \n",
       "3         65%  Autorisation active                   Procédure nationale   \n",
       "4        100%  Autorisation active                   Procédure nationale   \n",
       "5        100%  Autorisation active                   Procédure nationale   \n",
       "6        100%  Autorisation active                 Procédure centralisée   \n",
       "7         65%  Autorisation active  Procédure de reconnaissance mutuelle   \n",
       "8         65%  Autorisation active                   Procédure nationale   \n",
       "9         65%  Autorisation active                   Procédure nationale   \n",
       "\n",
       "                      forme pharma  \n",
       "0               comprimé pelliculé  \n",
       "1               comprimé à croquer  \n",
       "2    gélule à libération prolongée  \n",
       "3  granulés à libération prolongée  \n",
       "4               comprimé pelliculé  \n",
       "5                         comprimé  \n",
       "6                    capsule molle  \n",
       "7                         comprimé  \n",
       "8                 comprimé sécable  \n",
       "9               comprimé pelliculé  "
      ]
     },
     "execution_count": 15,
     "metadata": {},
     "output_type": "execute_result"
    }
   ],
   "source": [
    "data_train[var_cat].head(10)"
   ]
  },
  {
   "cell_type": "code",
   "execution_count": 16,
   "metadata": {
    "collapsed": false
   },
   "outputs": [],
   "source": [
    "for c in var_cat:\n",
    "    le = LabelEncoder()\n",
    "    le.fit(data_train[c].append(data_test[c]))\n",
    "    data_train[c] = le.transform(data_train[c])\n",
    "    data_test[c] = le.transform(data_test[c])"
   ]
  },
  {
   "cell_type": "code",
   "execution_count": 17,
   "metadata": {
    "collapsed": false,
    "scrolled": true
   },
   "outputs": [
    {
     "data": {
      "text/html": [
       "<div>\n",
       "<table border=\"1\" class=\"dataframe\">\n",
       "  <thead>\n",
       "    <tr style=\"text-align: right;\">\n",
       "      <th></th>\n",
       "      <th>statut</th>\n",
       "      <th>etat commerc</th>\n",
       "      <th>agrement col</th>\n",
       "      <th>tx rembours</th>\n",
       "      <th>statut admin</th>\n",
       "      <th>type proc</th>\n",
       "      <th>forme pharma</th>\n",
       "    </tr>\n",
       "  </thead>\n",
       "  <tbody>\n",
       "    <tr>\n",
       "      <th>0</th>\n",
       "      <td>1</td>\n",
       "      <td>2</td>\n",
       "      <td>1</td>\n",
       "      <td>4</td>\n",
       "      <td>1</td>\n",
       "      <td>3</td>\n",
       "      <td>36</td>\n",
       "    </tr>\n",
       "    <tr>\n",
       "      <th>1</th>\n",
       "      <td>1</td>\n",
       "      <td>2</td>\n",
       "      <td>1</td>\n",
       "      <td>4</td>\n",
       "      <td>1</td>\n",
       "      <td>2</td>\n",
       "      <td>55</td>\n",
       "    </tr>\n",
       "    <tr>\n",
       "      <th>2</th>\n",
       "      <td>1</td>\n",
       "      <td>2</td>\n",
       "      <td>1</td>\n",
       "      <td>4</td>\n",
       "      <td>1</td>\n",
       "      <td>4</td>\n",
       "      <td>92</td>\n",
       "    </tr>\n",
       "    <tr>\n",
       "      <th>3</th>\n",
       "      <td>1</td>\n",
       "      <td>2</td>\n",
       "      <td>1</td>\n",
       "      <td>4</td>\n",
       "      <td>1</td>\n",
       "      <td>4</td>\n",
       "      <td>86</td>\n",
       "    </tr>\n",
       "    <tr>\n",
       "      <th>4</th>\n",
       "      <td>1</td>\n",
       "      <td>1</td>\n",
       "      <td>0</td>\n",
       "      <td>1</td>\n",
       "      <td>1</td>\n",
       "      <td>4</td>\n",
       "      <td>36</td>\n",
       "    </tr>\n",
       "    <tr>\n",
       "      <th>5</th>\n",
       "      <td>1</td>\n",
       "      <td>2</td>\n",
       "      <td>1</td>\n",
       "      <td>1</td>\n",
       "      <td>1</td>\n",
       "      <td>4</td>\n",
       "      <td>8</td>\n",
       "    </tr>\n",
       "    <tr>\n",
       "      <th>6</th>\n",
       "      <td>1</td>\n",
       "      <td>2</td>\n",
       "      <td>1</td>\n",
       "      <td>1</td>\n",
       "      <td>1</td>\n",
       "      <td>1</td>\n",
       "      <td>1</td>\n",
       "    </tr>\n",
       "    <tr>\n",
       "      <th>7</th>\n",
       "      <td>1</td>\n",
       "      <td>2</td>\n",
       "      <td>1</td>\n",
       "      <td>4</td>\n",
       "      <td>1</td>\n",
       "      <td>2</td>\n",
       "      <td>8</td>\n",
       "    </tr>\n",
       "    <tr>\n",
       "      <th>8</th>\n",
       "      <td>1</td>\n",
       "      <td>1</td>\n",
       "      <td>1</td>\n",
       "      <td>4</td>\n",
       "      <td>1</td>\n",
       "      <td>4</td>\n",
       "      <td>50</td>\n",
       "    </tr>\n",
       "    <tr>\n",
       "      <th>9</th>\n",
       "      <td>1</td>\n",
       "      <td>2</td>\n",
       "      <td>0</td>\n",
       "      <td>4</td>\n",
       "      <td>1</td>\n",
       "      <td>4</td>\n",
       "      <td>36</td>\n",
       "    </tr>\n",
       "  </tbody>\n",
       "</table>\n",
       "</div>"
      ],
      "text/plain": [
       "   statut  etat commerc  agrement col  tx rembours  statut admin  type proc  \\\n",
       "0       1             2             1            4             1          3   \n",
       "1       1             2             1            4             1          2   \n",
       "2       1             2             1            4             1          4   \n",
       "3       1             2             1            4             1          4   \n",
       "4       1             1             0            1             1          4   \n",
       "5       1             2             1            1             1          4   \n",
       "6       1             2             1            1             1          1   \n",
       "7       1             2             1            4             1          2   \n",
       "8       1             1             1            4             1          4   \n",
       "9       1             2             0            4             1          4   \n",
       "\n",
       "   forme pharma  \n",
       "0            36  \n",
       "1            55  \n",
       "2            92  \n",
       "3            86  \n",
       "4            36  \n",
       "5             8  \n",
       "6             1  \n",
       "7             8  \n",
       "8            50  \n",
       "9            36  "
      ]
     },
     "execution_count": 17,
     "metadata": {},
     "output_type": "execute_result"
    }
   ],
   "source": [
    "data_train[var_cat].head(10)"
   ]
  },
  {
   "cell_type": "markdown",
   "metadata": {},
   "source": [
    "## Création du modèle prédictif\n",
    "Nous sommes maintenant prêt à définir un modèle prédictif des prix des médicaments.\n",
    "\n",
    "Nous allons utiliser un modèle *Random Forest Regression*\n",
    "\n",
    "Nous allons également utiliser toutes les variables à notre disposition, excepté les variables textuelles.\n",
    "\n",
    "Enfin, afin d'éviter le [surapprentissage](https://fr.wikipedia.org/wiki/Surapprentissage) et correctement estimer les performances de nos modèles, nous allons utiliser la [validation croisée](https://fr.wikipedia.org/wiki/Validation_crois%C3%A9e) avec le critère *k-fold*."
   ]
  },
  {
   "cell_type": "code",
   "execution_count": 20,
   "metadata": {
    "collapsed": false
   },
   "outputs": [
    {
     "name": "stdout",
     "output_type": "stream",
     "text": [
      "*** Random Forest MAPE Error :  33.560919027611654\n"
     ]
    }
   ],
   "source": [
    "NBROUND = 5\n",
    "VARIABLES = var_sub + var_num+var_admin+var_cat\n",
    "# Random Forest Model\n",
    "params = {'n_estimators': 200, 'n_jobs':-1}\n",
    "err = 0\n",
    "for train_index, test_index in KFold(n_splits=NBROUND).split(data_train):\n",
    "    y = data_train['logprix']\n",
    "    X = data_train[VARIABLES]\n",
    "    X_train, X_test = X.ix[train_index, :], X.ix[test_index, :]\n",
    "    y_train, y_test = y[train_index], y[test_index]\n",
    "    gbrt = RandomForestRegressor(**params)\n",
    "    gbrt.fit(X_train, y_train)\n",
    "    pred = gbrt.predict(X_test)\n",
    "    # ne pas oublier de reprendre l'exponentielle de la prédiction\n",
    "    err += mape_error(np.exp(y_test), np.exp(pred))\n",
    "    #print (mape_error(np.exp(y_test), np.exp(pred)))\n",
    "print (\"*** Random Forest MAPE Error : \", err / NBROUND)"
   ]
  },
  {
   "cell_type": "markdown",
   "metadata": {},
   "source": [
    "## Prédictions\n",
    "Nous allons entrainer le modèle sur un ensemble de variables sélectionnées qui semblent optimiser le score de prédiction"
   ]
  },
  {
   "cell_type": "code",
   "execution_count": 21,
   "metadata": {
    "collapsed": false
   },
   "outputs": [],
   "source": [
    "rf = RandomForestRegressor(n_estimators = 200, n_jobs=-1)\n",
    "VARIABLES = var_sub + var_num+var_admin+var_cat\n",
    "rf.fit(data_train[VARIABLES], data_train['logprix'])\n",
    "predictions_training = np.exp(rf.predict(data_train[VARIABLES]))\n",
    "predictions = np.exp(rf.predict(data_test[VARIABLES]))"
   ]
  },
  {
   "cell_type": "markdown",
   "metadata": {},
   "source": [
    "## Soumission\n",
    "Pour finir, nous sauvegardons nos prédictions dans un fichier au bon format pour soumession."
   ]
  },
  {
   "cell_type": "code",
   "execution_count": 22,
   "metadata": {
    "collapsed": true
   },
   "outputs": [],
   "source": [
    "pd.DataFrame(predictions, index=data_test['id']).to_csv('soumission.csv',  \n",
    "                          header=['prix'],\n",
    "                          sep = ';')"
   ]
  },
  {
   "cell_type": "code",
   "execution_count": null,
   "metadata": {
    "collapsed": true
   },
   "outputs": [],
   "source": []
  }
 ],
 "metadata": {
  "kernelspec": {
   "display_name": "Python 3",
   "language": "python",
   "name": "python3"
  },
  "language_info": {
   "codemirror_mode": {
    "name": "ipython",
    "version": 3
   },
   "file_extension": ".py",
   "mimetype": "text/x-python",
   "name": "python",
   "nbconvert_exporter": "python",
   "pygments_lexer": "ipython3",
   "version": "3.5.2"
  }
 },
 "nbformat": 4,
 "nbformat_minor": 0
}
