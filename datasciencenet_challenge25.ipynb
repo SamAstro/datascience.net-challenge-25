{
 "cells": [
  {
   "cell_type": "markdown",
   "metadata": {},
   "source": [
    "# Challenge 'Le meilleur data scientist de France #1'\n",
    "[url](https://www.datascience.net/fr/challenge/25/details)"
   ]
  },
  {
   "cell_type": "markdown",
   "metadata": {},
   "source": [
    "## Importation des librairies"
   ]
  },
  {
   "cell_type": "code",
   "execution_count": 1,
   "metadata": {
    "collapsed": false
   },
   "outputs": [],
   "source": [
    "#from matplotlib import rc_file\n",
    "#rc_file('/Users/samiadrappeau/.matplotlib/journalplotrc/mnras.rc')\n",
    "import pandas as pd\n",
    "import numpy as np\n",
    "from sklearn.preprocessing import LabelEncoder\n",
    "from sklearn.cross_validation import KFold\n",
    "from sklearn.ensemble import RandomForestRegressor\n",
    "from sklearn.ensemble import GradientBoostingRegressor\n",
    "from sklearn.tree import DecisionTreeRegressor\n",
    "from sklearn.ensemble import AdaBoostRegressor\n",
    "import matplotlib.pyplot as plt\n",
    "#from mpl_toolkits.axes_grid.anchored_artists import AnchoredText\n",
    "#from matplotlib.ticker import MultipleLocator\n",
    "%matplotlib inline \n",
    "import seaborn as sns"
   ]
  },
  {
   "cell_type": "markdown",
   "metadata": {},
   "source": [
    "## Importation des données et visualisation des 10 premiers éléments"
   ]
  },
  {
   "cell_type": "code",
   "execution_count": 2,
   "metadata": {
    "collapsed": false
   },
   "outputs": [
    {
     "data": {
      "text/html": [
       "<div>\n",
       "<table border=\"1\" class=\"dataframe\">\n",
       "  <thead>\n",
       "    <tr style=\"text-align: right;\">\n",
       "      <th></th>\n",
       "      <th>libelle</th>\n",
       "      <th>libelle_plaquette</th>\n",
       "      <th>libelle_ampoule</th>\n",
       "      <th>libelle_flacon</th>\n",
       "      <th>libelle_tube</th>\n",
       "      <th>libelle_stylo</th>\n",
       "      <th>libelle_seringue</th>\n",
       "      <th>libelle_pilulier</th>\n",
       "      <th>libelle_sachet</th>\n",
       "      <th>libelle_comprime</th>\n",
       "      <th>libelle_gelule</th>\n",
       "      <th>libelle_film</th>\n",
       "      <th>libelle_poche</th>\n",
       "      <th>libelle_capsule</th>\n",
       "      <th>nb_plaquette</th>\n",
       "      <th>nb_ampoule</th>\n",
       "      <th>nb_flacon</th>\n",
       "      <th>nb_tube</th>\n",
       "      <th>nb_stylo</th>\n",
       "      <th>nb_seringue</th>\n",
       "      <th>nb_pilulier</th>\n",
       "      <th>nb_sachet</th>\n",
       "      <th>nb_comprime</th>\n",
       "      <th>nb_gelule</th>\n",
       "      <th>nb_film</th>\n",
       "      <th>nb_poche</th>\n",
       "      <th>nb_capsule</th>\n",
       "      <th>nb_ml</th>\n",
       "      <th>statut</th>\n",
       "      <th>etat commerc</th>\n",
       "      <th>agrement col</th>\n",
       "      <th>tx rembours</th>\n",
       "      <th>forme pharma</th>\n",
       "      <th>voies admin</th>\n",
       "      <th>statut admin</th>\n",
       "      <th>date declar annee</th>\n",
       "      <th>date amm annee</th>\n",
       "      <th>type proc</th>\n",
       "      <th>titulaires</th>\n",
       "      <th>substances</th>\n",
       "      <th>prix</th>\n",
       "    </tr>\n",
       "  </thead>\n",
       "  <tbody>\n",
       "    <tr>\n",
       "      <th>0</th>\n",
       "      <td>3 plaquette(s) thermoformée(s) PVC-Aluminium d...</td>\n",
       "      <td>1</td>\n",
       "      <td>0</td>\n",
       "      <td>0</td>\n",
       "      <td>0</td>\n",
       "      <td>0</td>\n",
       "      <td>0</td>\n",
       "      <td>0</td>\n",
       "      <td>0</td>\n",
       "      <td>1</td>\n",
       "      <td>0</td>\n",
       "      <td>0</td>\n",
       "      <td>0</td>\n",
       "      <td>0</td>\n",
       "      <td>3</td>\n",
       "      <td>0</td>\n",
       "      <td>0</td>\n",
       "      <td>0</td>\n",
       "      <td>0</td>\n",
       "      <td>0</td>\n",
       "      <td>0</td>\n",
       "      <td>0</td>\n",
       "      <td>28</td>\n",
       "      <td>0</td>\n",
       "      <td>0</td>\n",
       "      <td>0</td>\n",
       "      <td>0</td>\n",
       "      <td>0.0</td>\n",
       "      <td>Présentation active</td>\n",
       "      <td>Déclaration de commercialisation</td>\n",
       "      <td>oui</td>\n",
       "      <td>65%</td>\n",
       "      <td>comprimé pelliculé</td>\n",
       "      <td>orale</td>\n",
       "      <td>Autorisation active</td>\n",
       "      <td>2014</td>\n",
       "      <td>2014</td>\n",
       "      <td>Procédure décentralisée</td>\n",
       "      <td>MAJORELLE LUXEMBOURG SOPARFI (LUXEMBOURG)</td>\n",
       "      <td>DÉSOGESTREL</td>\n",
       "      <td>2.83</td>\n",
       "    </tr>\n",
       "    <tr>\n",
       "      <th>1</th>\n",
       "      <td>plaquette(s) thermoformée(s) aluminium de 28 c...</td>\n",
       "      <td>1</td>\n",
       "      <td>0</td>\n",
       "      <td>0</td>\n",
       "      <td>0</td>\n",
       "      <td>0</td>\n",
       "      <td>0</td>\n",
       "      <td>0</td>\n",
       "      <td>0</td>\n",
       "      <td>1</td>\n",
       "      <td>0</td>\n",
       "      <td>0</td>\n",
       "      <td>0</td>\n",
       "      <td>0</td>\n",
       "      <td>0</td>\n",
       "      <td>0</td>\n",
       "      <td>0</td>\n",
       "      <td>0</td>\n",
       "      <td>0</td>\n",
       "      <td>0</td>\n",
       "      <td>0</td>\n",
       "      <td>0</td>\n",
       "      <td>28</td>\n",
       "      <td>0</td>\n",
       "      <td>0</td>\n",
       "      <td>0</td>\n",
       "      <td>0</td>\n",
       "      <td>0.0</td>\n",
       "      <td>Présentation active</td>\n",
       "      <td>Déclaration de commercialisation</td>\n",
       "      <td>oui</td>\n",
       "      <td>65%</td>\n",
       "      <td>comprimé à croquer</td>\n",
       "      <td>orale</td>\n",
       "      <td>Autorisation active</td>\n",
       "      <td>2013</td>\n",
       "      <td>2009</td>\n",
       "      <td>Procédure de reconnaissance mutuelle</td>\n",
       "      <td>TEVA SANTE</td>\n",
       "      <td>MONTÉLUKAST ACIDE, MONTÉLUKAST SODIQUE</td>\n",
       "      <td>14.30</td>\n",
       "    </tr>\n",
       "    <tr>\n",
       "      <th>2</th>\n",
       "      <td>plaquette(s) thermoformée(s) PVC-aluminium de ...</td>\n",
       "      <td>1</td>\n",
       "      <td>0</td>\n",
       "      <td>0</td>\n",
       "      <td>0</td>\n",
       "      <td>0</td>\n",
       "      <td>0</td>\n",
       "      <td>0</td>\n",
       "      <td>0</td>\n",
       "      <td>0</td>\n",
       "      <td>1</td>\n",
       "      <td>0</td>\n",
       "      <td>0</td>\n",
       "      <td>0</td>\n",
       "      <td>0</td>\n",
       "      <td>0</td>\n",
       "      <td>0</td>\n",
       "      <td>0</td>\n",
       "      <td>0</td>\n",
       "      <td>0</td>\n",
       "      <td>0</td>\n",
       "      <td>0</td>\n",
       "      <td>0</td>\n",
       "      <td>30</td>\n",
       "      <td>0</td>\n",
       "      <td>0</td>\n",
       "      <td>0</td>\n",
       "      <td>0.0</td>\n",
       "      <td>Présentation active</td>\n",
       "      <td>Déclaration de commercialisation</td>\n",
       "      <td>oui</td>\n",
       "      <td>65%</td>\n",
       "      <td>gélule à libération prolongée</td>\n",
       "      <td>orale</td>\n",
       "      <td>Autorisation active</td>\n",
       "      <td>2000</td>\n",
       "      <td>1996</td>\n",
       "      <td>Procédure nationale</td>\n",
       "      <td>MYLAN SAS</td>\n",
       "      <td>CHLORHYDRATE DE DILTIAZEM</td>\n",
       "      <td>5.66</td>\n",
       "    </tr>\n",
       "    <tr>\n",
       "      <th>3</th>\n",
       "      <td>30 sachet(s)-dose(s) papier aluminium complexe...</td>\n",
       "      <td>0</td>\n",
       "      <td>0</td>\n",
       "      <td>0</td>\n",
       "      <td>0</td>\n",
       "      <td>0</td>\n",
       "      <td>0</td>\n",
       "      <td>0</td>\n",
       "      <td>1</td>\n",
       "      <td>0</td>\n",
       "      <td>0</td>\n",
       "      <td>0</td>\n",
       "      <td>0</td>\n",
       "      <td>0</td>\n",
       "      <td>0</td>\n",
       "      <td>0</td>\n",
       "      <td>0</td>\n",
       "      <td>0</td>\n",
       "      <td>0</td>\n",
       "      <td>0</td>\n",
       "      <td>0</td>\n",
       "      <td>30</td>\n",
       "      <td>0</td>\n",
       "      <td>0</td>\n",
       "      <td>0</td>\n",
       "      <td>0</td>\n",
       "      <td>0</td>\n",
       "      <td>0.0</td>\n",
       "      <td>Présentation active</td>\n",
       "      <td>Déclaration de commercialisation</td>\n",
       "      <td>oui</td>\n",
       "      <td>65%</td>\n",
       "      <td>granulés à libération prolongée</td>\n",
       "      <td>orale</td>\n",
       "      <td>Autorisation active</td>\n",
       "      <td>2005</td>\n",
       "      <td>2004</td>\n",
       "      <td>Procédure nationale</td>\n",
       "      <td>SANOFI AVENTIS FRANCE</td>\n",
       "      <td>ACIDE VALPROÏQUE, VALPROATE DE SODIUM</td>\n",
       "      <td>24.27</td>\n",
       "    </tr>\n",
       "    <tr>\n",
       "      <th>4</th>\n",
       "      <td>plaquette(s) thermoformée(s) PVC-Aluminium de ...</td>\n",
       "      <td>1</td>\n",
       "      <td>0</td>\n",
       "      <td>0</td>\n",
       "      <td>0</td>\n",
       "      <td>0</td>\n",
       "      <td>0</td>\n",
       "      <td>0</td>\n",
       "      <td>0</td>\n",
       "      <td>1</td>\n",
       "      <td>0</td>\n",
       "      <td>0</td>\n",
       "      <td>0</td>\n",
       "      <td>0</td>\n",
       "      <td>0</td>\n",
       "      <td>0</td>\n",
       "      <td>0</td>\n",
       "      <td>0</td>\n",
       "      <td>0</td>\n",
       "      <td>0</td>\n",
       "      <td>0</td>\n",
       "      <td>0</td>\n",
       "      <td>30</td>\n",
       "      <td>0</td>\n",
       "      <td>0</td>\n",
       "      <td>0</td>\n",
       "      <td>0</td>\n",
       "      <td>0.0</td>\n",
       "      <td>Présentation active</td>\n",
       "      <td>Déclaration d'arrêt de commercialisation</td>\n",
       "      <td>non</td>\n",
       "      <td>100%</td>\n",
       "      <td>comprimé pelliculé</td>\n",
       "      <td>orale</td>\n",
       "      <td>Autorisation active</td>\n",
       "      <td>2015</td>\n",
       "      <td>2010</td>\n",
       "      <td>Procédure nationale</td>\n",
       "      <td>TEVA SANTE</td>\n",
       "      <td>LÉTROZOLE</td>\n",
       "      <td>59.94</td>\n",
       "    </tr>\n",
       "    <tr>\n",
       "      <th>5</th>\n",
       "      <td>plaquette(s) thermoformée(s) PVC-aluminium de ...</td>\n",
       "      <td>1</td>\n",
       "      <td>0</td>\n",
       "      <td>0</td>\n",
       "      <td>0</td>\n",
       "      <td>0</td>\n",
       "      <td>0</td>\n",
       "      <td>0</td>\n",
       "      <td>0</td>\n",
       "      <td>1</td>\n",
       "      <td>0</td>\n",
       "      <td>0</td>\n",
       "      <td>0</td>\n",
       "      <td>0</td>\n",
       "      <td>0</td>\n",
       "      <td>0</td>\n",
       "      <td>0</td>\n",
       "      <td>0</td>\n",
       "      <td>0</td>\n",
       "      <td>0</td>\n",
       "      <td>0</td>\n",
       "      <td>0</td>\n",
       "      <td>30</td>\n",
       "      <td>0</td>\n",
       "      <td>0</td>\n",
       "      <td>0</td>\n",
       "      <td>0</td>\n",
       "      <td>0.0</td>\n",
       "      <td>Présentation active</td>\n",
       "      <td>Déclaration de commercialisation</td>\n",
       "      <td>oui</td>\n",
       "      <td>100%</td>\n",
       "      <td>comprimé</td>\n",
       "      <td>orale</td>\n",
       "      <td>Autorisation active</td>\n",
       "      <td>2001</td>\n",
       "      <td>2000</td>\n",
       "      <td>Procédure nationale</td>\n",
       "      <td>EG LABO - LABORATOIRES EUROGENERICS</td>\n",
       "      <td>FLUTAMIDE</td>\n",
       "      <td>27.17</td>\n",
       "    </tr>\n",
       "    <tr>\n",
       "      <th>6</th>\n",
       "      <td>flacon(s) polyéthylène haute densité (PEHD) de...</td>\n",
       "      <td>0</td>\n",
       "      <td>0</td>\n",
       "      <td>1</td>\n",
       "      <td>0</td>\n",
       "      <td>0</td>\n",
       "      <td>0</td>\n",
       "      <td>0</td>\n",
       "      <td>0</td>\n",
       "      <td>0</td>\n",
       "      <td>0</td>\n",
       "      <td>0</td>\n",
       "      <td>0</td>\n",
       "      <td>1</td>\n",
       "      <td>0</td>\n",
       "      <td>0</td>\n",
       "      <td>0</td>\n",
       "      <td>0</td>\n",
       "      <td>0</td>\n",
       "      <td>0</td>\n",
       "      <td>0</td>\n",
       "      <td>0</td>\n",
       "      <td>0</td>\n",
       "      <td>0</td>\n",
       "      <td>0</td>\n",
       "      <td>0</td>\n",
       "      <td>100</td>\n",
       "      <td>0.0</td>\n",
       "      <td>Présentation active</td>\n",
       "      <td>Déclaration de commercialisation</td>\n",
       "      <td>oui</td>\n",
       "      <td>100%</td>\n",
       "      <td>capsule molle</td>\n",
       "      <td>orale</td>\n",
       "      <td>Autorisation active</td>\n",
       "      <td>2015</td>\n",
       "      <td>2001</td>\n",
       "      <td>Procédure centralisée</td>\n",
       "      <td>EISAI (ROYAUME-UNI)</td>\n",
       "      <td>BEXAROTÈNE</td>\n",
       "      <td>877.83</td>\n",
       "    </tr>\n",
       "    <tr>\n",
       "      <th>7</th>\n",
       "      <td>plaquette(s) thermoformée(s) PVC polyéthylène ...</td>\n",
       "      <td>1</td>\n",
       "      <td>0</td>\n",
       "      <td>0</td>\n",
       "      <td>0</td>\n",
       "      <td>0</td>\n",
       "      <td>0</td>\n",
       "      <td>0</td>\n",
       "      <td>0</td>\n",
       "      <td>1</td>\n",
       "      <td>0</td>\n",
       "      <td>0</td>\n",
       "      <td>0</td>\n",
       "      <td>0</td>\n",
       "      <td>0</td>\n",
       "      <td>0</td>\n",
       "      <td>0</td>\n",
       "      <td>0</td>\n",
       "      <td>0</td>\n",
       "      <td>0</td>\n",
       "      <td>0</td>\n",
       "      <td>0</td>\n",
       "      <td>30</td>\n",
       "      <td>0</td>\n",
       "      <td>0</td>\n",
       "      <td>0</td>\n",
       "      <td>0</td>\n",
       "      <td>0.0</td>\n",
       "      <td>Présentation active</td>\n",
       "      <td>Déclaration de commercialisation</td>\n",
       "      <td>oui</td>\n",
       "      <td>65%</td>\n",
       "      <td>comprimé</td>\n",
       "      <td>orale</td>\n",
       "      <td>Autorisation active</td>\n",
       "      <td>2006</td>\n",
       "      <td>2006</td>\n",
       "      <td>Procédure de reconnaissance mutuelle</td>\n",
       "      <td>SANDOZ</td>\n",
       "      <td>GLIMÉPIRIDE</td>\n",
       "      <td>6.58</td>\n",
       "    </tr>\n",
       "    <tr>\n",
       "      <th>8</th>\n",
       "      <td>plaquette(s) thermoformée(s) PVC-Aluminium de ...</td>\n",
       "      <td>1</td>\n",
       "      <td>0</td>\n",
       "      <td>0</td>\n",
       "      <td>0</td>\n",
       "      <td>0</td>\n",
       "      <td>0</td>\n",
       "      <td>0</td>\n",
       "      <td>0</td>\n",
       "      <td>1</td>\n",
       "      <td>0</td>\n",
       "      <td>0</td>\n",
       "      <td>0</td>\n",
       "      <td>0</td>\n",
       "      <td>0</td>\n",
       "      <td>0</td>\n",
       "      <td>0</td>\n",
       "      <td>0</td>\n",
       "      <td>0</td>\n",
       "      <td>0</td>\n",
       "      <td>0</td>\n",
       "      <td>0</td>\n",
       "      <td>90</td>\n",
       "      <td>0</td>\n",
       "      <td>0</td>\n",
       "      <td>0</td>\n",
       "      <td>0</td>\n",
       "      <td>0.0</td>\n",
       "      <td>Présentation active</td>\n",
       "      <td>Déclaration d'arrêt de commercialisation</td>\n",
       "      <td>oui</td>\n",
       "      <td>65%</td>\n",
       "      <td>comprimé sécable</td>\n",
       "      <td>orale</td>\n",
       "      <td>Autorisation active</td>\n",
       "      <td>2013</td>\n",
       "      <td>2002</td>\n",
       "      <td>Procédure nationale</td>\n",
       "      <td>ARROW GENERIQUES</td>\n",
       "      <td>MALÉATE D'ÉNALAPRIL</td>\n",
       "      <td>18.63</td>\n",
       "    </tr>\n",
       "    <tr>\n",
       "      <th>9</th>\n",
       "      <td>plaquette(s) polyamide aluminium PVC de 10 com...</td>\n",
       "      <td>1</td>\n",
       "      <td>0</td>\n",
       "      <td>0</td>\n",
       "      <td>0</td>\n",
       "      <td>0</td>\n",
       "      <td>0</td>\n",
       "      <td>0</td>\n",
       "      <td>0</td>\n",
       "      <td>1</td>\n",
       "      <td>0</td>\n",
       "      <td>0</td>\n",
       "      <td>0</td>\n",
       "      <td>0</td>\n",
       "      <td>0</td>\n",
       "      <td>0</td>\n",
       "      <td>0</td>\n",
       "      <td>0</td>\n",
       "      <td>0</td>\n",
       "      <td>0</td>\n",
       "      <td>0</td>\n",
       "      <td>0</td>\n",
       "      <td>10</td>\n",
       "      <td>0</td>\n",
       "      <td>0</td>\n",
       "      <td>0</td>\n",
       "      <td>0</td>\n",
       "      <td>0.0</td>\n",
       "      <td>Présentation active</td>\n",
       "      <td>Déclaration de commercialisation</td>\n",
       "      <td>non</td>\n",
       "      <td>65%</td>\n",
       "      <td>comprimé pelliculé</td>\n",
       "      <td>orale</td>\n",
       "      <td>Autorisation active</td>\n",
       "      <td>2015</td>\n",
       "      <td>2012</td>\n",
       "      <td>Procédure nationale</td>\n",
       "      <td>ARROW GENERIQUES</td>\n",
       "      <td>CEFPODOXIME PROXÉTIL, CEFPODOXIME</td>\n",
       "      <td>6.13</td>\n",
       "    </tr>\n",
       "  </tbody>\n",
       "</table>\n",
       "</div>"
      ],
      "text/plain": [
       "                                             libelle  libelle_plaquette  \\\n",
       "0  3 plaquette(s) thermoformée(s) PVC-Aluminium d...                  1   \n",
       "1  plaquette(s) thermoformée(s) aluminium de 28 c...                  1   \n",
       "2  plaquette(s) thermoformée(s) PVC-aluminium de ...                  1   \n",
       "3  30 sachet(s)-dose(s) papier aluminium complexe...                  0   \n",
       "4  plaquette(s) thermoformée(s) PVC-Aluminium de ...                  1   \n",
       "5  plaquette(s) thermoformée(s) PVC-aluminium de ...                  1   \n",
       "6  flacon(s) polyéthylène haute densité (PEHD) de...                  0   \n",
       "7  plaquette(s) thermoformée(s) PVC polyéthylène ...                  1   \n",
       "8  plaquette(s) thermoformée(s) PVC-Aluminium de ...                  1   \n",
       "9  plaquette(s) polyamide aluminium PVC de 10 com...                  1   \n",
       "\n",
       "   libelle_ampoule  libelle_flacon  libelle_tube  libelle_stylo  \\\n",
       "0                0               0             0              0   \n",
       "1                0               0             0              0   \n",
       "2                0               0             0              0   \n",
       "3                0               0             0              0   \n",
       "4                0               0             0              0   \n",
       "5                0               0             0              0   \n",
       "6                0               1             0              0   \n",
       "7                0               0             0              0   \n",
       "8                0               0             0              0   \n",
       "9                0               0             0              0   \n",
       "\n",
       "   libelle_seringue  libelle_pilulier  libelle_sachet  libelle_comprime  \\\n",
       "0                 0                 0               0                 1   \n",
       "1                 0                 0               0                 1   \n",
       "2                 0                 0               0                 0   \n",
       "3                 0                 0               1                 0   \n",
       "4                 0                 0               0                 1   \n",
       "5                 0                 0               0                 1   \n",
       "6                 0                 0               0                 0   \n",
       "7                 0                 0               0                 1   \n",
       "8                 0                 0               0                 1   \n",
       "9                 0                 0               0                 1   \n",
       "\n",
       "   libelle_gelule  libelle_film  libelle_poche  libelle_capsule  nb_plaquette  \\\n",
       "0               0             0              0                0             3   \n",
       "1               0             0              0                0             0   \n",
       "2               1             0              0                0             0   \n",
       "3               0             0              0                0             0   \n",
       "4               0             0              0                0             0   \n",
       "5               0             0              0                0             0   \n",
       "6               0             0              0                1             0   \n",
       "7               0             0              0                0             0   \n",
       "8               0             0              0                0             0   \n",
       "9               0             0              0                0             0   \n",
       "\n",
       "   nb_ampoule  nb_flacon  nb_tube  nb_stylo  nb_seringue  nb_pilulier  \\\n",
       "0           0          0        0         0            0            0   \n",
       "1           0          0        0         0            0            0   \n",
       "2           0          0        0         0            0            0   \n",
       "3           0          0        0         0            0            0   \n",
       "4           0          0        0         0            0            0   \n",
       "5           0          0        0         0            0            0   \n",
       "6           0          0        0         0            0            0   \n",
       "7           0          0        0         0            0            0   \n",
       "8           0          0        0         0            0            0   \n",
       "9           0          0        0         0            0            0   \n",
       "\n",
       "   nb_sachet  nb_comprime  nb_gelule  nb_film  nb_poche  nb_capsule  nb_ml  \\\n",
       "0          0           28          0        0         0           0    0.0   \n",
       "1          0           28          0        0         0           0    0.0   \n",
       "2          0            0         30        0         0           0    0.0   \n",
       "3         30            0          0        0         0           0    0.0   \n",
       "4          0           30          0        0         0           0    0.0   \n",
       "5          0           30          0        0         0           0    0.0   \n",
       "6          0            0          0        0         0         100    0.0   \n",
       "7          0           30          0        0         0           0    0.0   \n",
       "8          0           90          0        0         0           0    0.0   \n",
       "9          0           10          0        0         0           0    0.0   \n",
       "\n",
       "                statut                              etat commerc agrement col  \\\n",
       "0  Présentation active          Déclaration de commercialisation          oui   \n",
       "1  Présentation active          Déclaration de commercialisation          oui   \n",
       "2  Présentation active          Déclaration de commercialisation          oui   \n",
       "3  Présentation active          Déclaration de commercialisation          oui   \n",
       "4  Présentation active  Déclaration d'arrêt de commercialisation          non   \n",
       "5  Présentation active          Déclaration de commercialisation          oui   \n",
       "6  Présentation active          Déclaration de commercialisation          oui   \n",
       "7  Présentation active          Déclaration de commercialisation          oui   \n",
       "8  Présentation active  Déclaration d'arrêt de commercialisation          oui   \n",
       "9  Présentation active          Déclaration de commercialisation          non   \n",
       "\n",
       "  tx rembours                     forme pharma voies admin  \\\n",
       "0         65%               comprimé pelliculé       orale   \n",
       "1         65%               comprimé à croquer       orale   \n",
       "2         65%    gélule à libération prolongée       orale   \n",
       "3         65%  granulés à libération prolongée       orale   \n",
       "4        100%               comprimé pelliculé       orale   \n",
       "5        100%                         comprimé       orale   \n",
       "6        100%                    capsule molle       orale   \n",
       "7         65%                         comprimé       orale   \n",
       "8         65%                 comprimé sécable       orale   \n",
       "9         65%               comprimé pelliculé       orale   \n",
       "\n",
       "          statut admin  date declar annee  date amm annee  \\\n",
       "0  Autorisation active               2014            2014   \n",
       "1  Autorisation active               2013            2009   \n",
       "2  Autorisation active               2000            1996   \n",
       "3  Autorisation active               2005            2004   \n",
       "4  Autorisation active               2015            2010   \n",
       "5  Autorisation active               2001            2000   \n",
       "6  Autorisation active               2015            2001   \n",
       "7  Autorisation active               2006            2006   \n",
       "8  Autorisation active               2013            2002   \n",
       "9  Autorisation active               2015            2012   \n",
       "\n",
       "                              type proc  \\\n",
       "0               Procédure décentralisée   \n",
       "1  Procédure de reconnaissance mutuelle   \n",
       "2                   Procédure nationale   \n",
       "3                   Procédure nationale   \n",
       "4                   Procédure nationale   \n",
       "5                   Procédure nationale   \n",
       "6                 Procédure centralisée   \n",
       "7  Procédure de reconnaissance mutuelle   \n",
       "8                   Procédure nationale   \n",
       "9                   Procédure nationale   \n",
       "\n",
       "                                   titulaires  \\\n",
       "0   MAJORELLE LUXEMBOURG SOPARFI (LUXEMBOURG)   \n",
       "1                                  TEVA SANTE   \n",
       "2                                   MYLAN SAS   \n",
       "3                       SANOFI AVENTIS FRANCE   \n",
       "4                                  TEVA SANTE   \n",
       "5         EG LABO - LABORATOIRES EUROGENERICS   \n",
       "6                         EISAI (ROYAUME-UNI)   \n",
       "7                                      SANDOZ   \n",
       "8                            ARROW GENERIQUES   \n",
       "9                            ARROW GENERIQUES   \n",
       "\n",
       "                               substances    prix  \n",
       "0                             DÉSOGESTREL    2.83  \n",
       "1  MONTÉLUKAST ACIDE, MONTÉLUKAST SODIQUE   14.30  \n",
       "2               CHLORHYDRATE DE DILTIAZEM    5.66  \n",
       "3   ACIDE VALPROÏQUE, VALPROATE DE SODIUM   24.27  \n",
       "4                               LÉTROZOLE   59.94  \n",
       "5                               FLUTAMIDE   27.17  \n",
       "6                              BEXAROTÈNE  877.83  \n",
       "7                             GLIMÉPIRIDE    6.58  \n",
       "8                     MALÉATE D'ÉNALAPRIL   18.63  \n",
       "9       CEFPODOXIME PROXÉTIL, CEFPODOXIME    6.13  "
      ]
     },
     "execution_count": 2,
     "metadata": {},
     "output_type": "execute_result"
    }
   ],
   "source": [
    "data_train = pd.read_csv('../data_challenge/boites_medicaments_train.csv', encoding='utf-8', sep=';')\n",
    "data_test = pd.read_csv('../data_challenge/boites_medicaments_test.csv', encoding='utf-8', sep=';')\n",
    "\n",
    "# permet de voir toutes les colonnes\n",
    "pd.set_option(\"display.max_columns\", 99)    \n",
    "# Visualisons les 10 premières entrées\n",
    "data_train.head(10)"
   ]
  },
  {
   "cell_type": "markdown",
   "metadata": {},
   "source": [
    "## Analyse descriptive\n",
    "### Structures des datasets"
   ]
  },
  {
   "cell_type": "code",
   "execution_count": 3,
   "metadata": {
    "collapsed": false
   },
   "outputs": [
    {
     "name": "stdout",
     "output_type": "stream",
     "text": [
      "Les données train ont 8564 observables, de 41 variables chacune.\n",
      "Les données test ont 3671 observables, de 41 variables chacune.\n"
     ]
    }
   ],
   "source": [
    "print('Les données train ont ' + str(data_train.shape[0]) + ' observables, de ' + str(data_train.shape[1]) + ' variables chacune.')\n",
    "print('Les données test ont ' + str(data_test.shape[0]) + ' observables, de ' + str(data_test.shape[1]) + ' variables chacune.')"
   ]
  },
  {
   "cell_type": "markdown",
   "metadata": {},
   "source": [
    "Il est **très** important de lire la [description des variables](https://www.datascience.net/fr/challenge/25/details#tab_brief71), afin de correctement appréhender le problème."
   ]
  },
  {
   "cell_type": "markdown",
   "metadata": {},
   "source": [
    "### Que cherchons-nous à prédire?\n",
    "Nous cherchons à développer un modèle prédictif permettant d'estimer le coût d'une boîte de médicament.\n",
    "\n",
    "Commençons donc par étudier la distribution des prix dans les données train."
   ]
  },
  {
   "cell_type": "markdown",
   "metadata": {},
   "source": [
    "### Description des données"
   ]
  },
  {
   "cell_type": "code",
   "execution_count": 4,
   "metadata": {
    "collapsed": false
   },
   "outputs": [
    {
     "data": {
      "text/plain": [
       "6.36      364\n",
       "18.63     333\n",
       "8.14       93\n",
       "23.71      86\n",
       "7.55       81\n",
       "1.08       79\n",
       "3.94       79\n",
       "7.21       74\n",
       "5.27       68\n",
       "3.49       65\n",
       "8.13       57\n",
       "5.91       48\n",
       "1.88       48\n",
       "22.04      46\n",
       "23.49      40\n",
       "14.86      40\n",
       "20.15      38\n",
       "4.82       37\n",
       "5.90       37\n",
       "3.79       36\n",
       "6.25       36\n",
       "8.92       34\n",
       "27.50      32\n",
       "18.14      32\n",
       "7.73       31\n",
       "9.62       31\n",
       "1.59       31\n",
       "14.79      31\n",
       "29.09      30\n",
       "14.20      30\n",
       "         ... \n",
       "5.19        1\n",
       "6.44        1\n",
       "779.22      1\n",
       "34.63       1\n",
       "794.29      1\n",
       "43.65       1\n",
       "121.79      1\n",
       "0.98        1\n",
       "2.98        1\n",
       "3.24        1\n",
       "8.74        1\n",
       "9.49        1\n",
       "6.29        1\n",
       "10.01       1\n",
       "8.76        1\n",
       "63.90       1\n",
       "6.76        1\n",
       "749.29      1\n",
       "31.09       1\n",
       "58.46       1\n",
       "56.40       1\n",
       "54.40       1\n",
       "50.27       1\n",
       "49.52       1\n",
       "48.65       1\n",
       "25.12       1\n",
       "46.15       1\n",
       "45.21       1\n",
       "23.12       1\n",
       "0.75        1\n",
       "Name: prix, dtype: int64"
      ]
     },
     "execution_count": 4,
     "metadata": {},
     "output_type": "execute_result"
    }
   ],
   "source": [
    "data_train['prix'].value_counts()"
   ]
  },
  {
   "cell_type": "code",
   "execution_count": 5,
   "metadata": {
    "collapsed": false
   },
   "outputs": [
    {
     "data": {
      "text/plain": [
       "<matplotlib.text.Text at 0x10da92780>"
      ]
     },
     "execution_count": 5,
     "metadata": {},
     "output_type": "execute_result"
    },
    {
     "data": {
      "image/png": "[encoded data removed]",
      "text/plain": [
       "<matplotlib.figure.Figure at 0x106ab71d0>"
      ]
     },
     "metadata": {},
     "output_type": "display_data"
    }
   ],
   "source": [
    "ax = data_train['prix'].hist()\n",
    "ax.set_xlabel('prix [euros]')\n",
    "ax.set_ylabel('nombres de medicaments')"
   ]
  },
  {
   "cell_type": "markdown",
   "metadata": {},
   "source": [
    "Ce n'est pas très joli. Essayons d'améliorer les choses en prenant le logarithme des prix."
   ]
  },
  {
   "cell_type": "code",
   "execution_count": 6,
   "metadata": {
    "collapsed": false
   },
   "outputs": [
    {
     "data": {
      "text/plain": [
       "<matplotlib.text.Text at 0x1055c7748>"
      ]
     },
     "execution_count": 6,
     "metadata": {},
     "output_type": "execute_result"
    },
    {
     "data": {
      "image/png": "[encoded data removed]",
      "text/plain": [
       "<matplotlib.figure.Figure at 0x105595400>"
      ]
     },
     "metadata": {},
     "output_type": "display_data"
    }
   ],
   "source": [
    "data_train['logprix'] = data_train['prix'].apply(np.log)\n",
    "ax = data_train['logprix'].hist()\n",
    "ax.set_xlabel('log(prix [euros])')\n",
    "ax.set_ylabel('nombres de medicaments')"
   ]
  },
  {
   "cell_type": "markdown",
   "metadata": {},
   "source": [
    "C'est un peu plus joli. Nous avons une belle distribution, proche d'une gaussienne.\n",
    "\n",
    "Observons maintenant l'influence de deux variables sur le prix final des médicaments : le taux de remboursement de la Sécurité Sociale et le statut administratif de la boîte.\n",
    "\n",
    "Pour cela, nous allons utiliser la fonction *violinplot()* de Seaborn. La [documentation](https://stanford.edu/~mwaskom/software/seaborn/generated/seaborn.violinplot.html) donne une description de la fonction :\n",
    ">Draw a combination of boxplot and kernel density estimate.\n",
    "\n",
    ">A violin plot plays a similar role as a box and whisker plot. It shows the distribution of quantitative data across >several levels of one (or more) categorical variables such that those distributions can be compared. Unlike a box >plot, in which all of the plot components correspond to actual datapoints, the violin plot features a kernel density >estimation of the underlying distribution."
   ]
  },
  {
   "cell_type": "markdown",
   "metadata": {},
   "source": [
    "Un *kernel density estimate* (ou *Estimation du noyau* en français) est une fonction de probabilité.\n",
    "\n",
    "Quelques définitions :  \n",
    "**Kernel** : c'est un type particulier de fonction de probabilité qui a la propriété d'être paire.  \n",
    "**KDE** : c'est une méthode non-paramétrique d'estimation de la fonction de probabilité d'une variable aléatoire continue.  \n",
    "**Non-paramétrique** : n'assume aucune distribution sous-jacente de la variable."
   ]
  },
  {
   "cell_type": "code",
   "execution_count": 7,
   "metadata": {
    "collapsed": false
   },
   "outputs": [
    {
     "data": {
      "text/plain": [
       "<matplotlib.text.Text at 0x1055bd470>"
      ]
     },
     "execution_count": 7,
     "metadata": {},
     "output_type": "execute_result"
    },
    {
     "data": {
      "image/png": "[encoded data removed]",
      "text/plain": [
       "<matplotlib.figure.Figure at 0x10e8c4be0>"
      ]
     },
     "metadata": {},
     "output_type": "display_data"
    }
   ],
   "source": [
    "# Influence du taux de remboursement sur le prix\n",
    "ax = sns.violinplot(y=\"logprix\", x=\"tx rembours\", data=data_train)\n",
    "ax.set_xlabel('Taux de remboursement Secu')\n",
    "ax.set_ylabel('log(prix [euros])')"
   ]
  },
  {
   "cell_type": "code",
   "execution_count": 8,
   "metadata": {
    "collapsed": false
   },
   "outputs": [
    {
     "data": {
      "text/plain": [
       "<matplotlib.text.Text at 0x10f341978>"
      ]
     },
     "execution_count": 8,
     "metadata": {},
     "output_type": "execute_result"
    },
    {
     "data": {
      "image/png": "[encoded data removed]",
      "text/plain": [
       "<matplotlib.figure.Figure at 0x10f31fcf8>"
      ]
     },
     "metadata": {},
     "output_type": "display_data"
    }
   ],
   "source": [
    "# Influence du statut du medicament sur son prix\n",
    "ax = sns.violinplot(y=\"logprix\", x=\"statut\", data=data_train)\n",
    "ax.set_xlabel('Statut du medicament')\n",
    "ax.set_ylabel('log(prix [euros])')"
   ]
  },
  {
   "cell_type": "markdown",
   "metadata": {},
   "source": [
    "# XXX INSERT HERE DESCRIPTION OF DISTRIBUTION"
   ]
  },
  {
   "cell_type": "markdown",
   "metadata": {},
   "source": [
    "## Préparation des données\n",
    "### Séparation des différents types de variables\n",
    "Nous constatons, en analysant les variables disponibles, qu'elles sont de quatre types différentes :\n",
    "* numérique  \n",
    "* catégorielle  \n",
    "* date  \n",
    "* texte\n",
    "\n",
    "Séparons les donc :"
   ]
  },
  {
   "cell_type": "code",
   "execution_count": 9,
   "metadata": {
    "collapsed": true
   },
   "outputs": [],
   "source": [
    "# variables numériques\n",
    "var_num = ['libelle_plaquette', 'libelle_ampoule', 'libelle_flacon', \n",
    "            'libelle_tube', 'libelle_stylo', 'libelle_seringue',\n",
    "            'libelle_pilulier', 'libelle_sachet', 'libelle_comprime', \n",
    "            'libelle_gelule', 'libelle_film', 'libelle_poche',\n",
    "            'libelle_capsule'] + ['nb_plaquette', 'nb_ampoule', \n",
    "            'nb_flacon', 'nb_tube', 'nb_stylo', 'nb_seringue',\n",
    "            'nb_pilulier', 'nb_sachet', 'nb_comprime', 'nb_gelule', \n",
    "            'nb_film', 'nb_poche', 'nb_capsule', 'nb_ml']\n",
    "# variables catégorielles\n",
    "var_cat = ['statut', 'etat commerc', 'agrement col', 'tx rembours',\n",
    "          'voies admin', 'statut admin', 'type proc']\n",
    "# variables dates\n",
    "var_dates = ['date declar annee', 'date amm annee']\n",
    "\n",
    "# variable texte\n",
    "var_txt = ['libelle', 'titulaires', 'substances', 'forme pharma']"
   ]
  },
  {
   "cell_type": "markdown",
   "metadata": {},
   "source": [
    "### Encodage des variables catégorielles\n",
    "Nous avons besoin de transformer les variables catégorielles en nombre, afin de pouvoir les utiliser dans les algorithmes de machine learning (qui nécessitent des nombres comme paramètres d'entrée).\n",
    "\n",
    "Pour cela, nous allons utiliser la fonction [*LabelEncoder()*](http://scikit-learn.org/stable/modules/generated/sklearn.preprocessing.LabelEncoder.html)"
   ]
  },
  {
   "cell_type": "code",
   "execution_count": 10,
   "metadata": {
    "collapsed": false
   },
   "outputs": [
    {
     "data": {
      "text/html": [
       "<div>\n",
       "<table border=\"1\" class=\"dataframe\">\n",
       "  <thead>\n",
       "    <tr style=\"text-align: right;\">\n",
       "      <th></th>\n",
       "      <th>statut</th>\n",
       "      <th>etat commerc</th>\n",
       "      <th>agrement col</th>\n",
       "      <th>tx rembours</th>\n",
       "      <th>voies admin</th>\n",
       "      <th>statut admin</th>\n",
       "      <th>type proc</th>\n",
       "    </tr>\n",
       "  </thead>\n",
       "  <tbody>\n",
       "    <tr>\n",
       "      <th>0</th>\n",
       "      <td>Présentation active</td>\n",
       "      <td>Déclaration de commercialisation</td>\n",
       "      <td>oui</td>\n",
       "      <td>65%</td>\n",
       "      <td>orale</td>\n",
       "      <td>Autorisation active</td>\n",
       "      <td>Procédure décentralisée</td>\n",
       "    </tr>\n",
       "    <tr>\n",
       "      <th>1</th>\n",
       "      <td>Présentation active</td>\n",
       "      <td>Déclaration de commercialisation</td>\n",
       "      <td>oui</td>\n",
       "      <td>65%</td>\n",
       "      <td>orale</td>\n",
       "      <td>Autorisation active</td>\n",
       "      <td>Procédure de reconnaissance mutuelle</td>\n",
       "    </tr>\n",
       "    <tr>\n",
       "      <th>2</th>\n",
       "      <td>Présentation active</td>\n",
       "      <td>Déclaration de commercialisation</td>\n",
       "      <td>oui</td>\n",
       "      <td>65%</td>\n",
       "      <td>orale</td>\n",
       "      <td>Autorisation active</td>\n",
       "      <td>Procédure nationale</td>\n",
       "    </tr>\n",
       "    <tr>\n",
       "      <th>3</th>\n",
       "      <td>Présentation active</td>\n",
       "      <td>Déclaration de commercialisation</td>\n",
       "      <td>oui</td>\n",
       "      <td>65%</td>\n",
       "      <td>orale</td>\n",
       "      <td>Autorisation active</td>\n",
       "      <td>Procédure nationale</td>\n",
       "    </tr>\n",
       "    <tr>\n",
       "      <th>4</th>\n",
       "      <td>Présentation active</td>\n",
       "      <td>Déclaration d'arrêt de commercialisation</td>\n",
       "      <td>non</td>\n",
       "      <td>100%</td>\n",
       "      <td>orale</td>\n",
       "      <td>Autorisation active</td>\n",
       "      <td>Procédure nationale</td>\n",
       "    </tr>\n",
       "    <tr>\n",
       "      <th>5</th>\n",
       "      <td>Présentation active</td>\n",
       "      <td>Déclaration de commercialisation</td>\n",
       "      <td>oui</td>\n",
       "      <td>100%</td>\n",
       "      <td>orale</td>\n",
       "      <td>Autorisation active</td>\n",
       "      <td>Procédure nationale</td>\n",
       "    </tr>\n",
       "    <tr>\n",
       "      <th>6</th>\n",
       "      <td>Présentation active</td>\n",
       "      <td>Déclaration de commercialisation</td>\n",
       "      <td>oui</td>\n",
       "      <td>100%</td>\n",
       "      <td>orale</td>\n",
       "      <td>Autorisation active</td>\n",
       "      <td>Procédure centralisée</td>\n",
       "    </tr>\n",
       "    <tr>\n",
       "      <th>7</th>\n",
       "      <td>Présentation active</td>\n",
       "      <td>Déclaration de commercialisation</td>\n",
       "      <td>oui</td>\n",
       "      <td>65%</td>\n",
       "      <td>orale</td>\n",
       "      <td>Autorisation active</td>\n",
       "      <td>Procédure de reconnaissance mutuelle</td>\n",
       "    </tr>\n",
       "    <tr>\n",
       "      <th>8</th>\n",
       "      <td>Présentation active</td>\n",
       "      <td>Déclaration d'arrêt de commercialisation</td>\n",
       "      <td>oui</td>\n",
       "      <td>65%</td>\n",
       "      <td>orale</td>\n",
       "      <td>Autorisation active</td>\n",
       "      <td>Procédure nationale</td>\n",
       "    </tr>\n",
       "    <tr>\n",
       "      <th>9</th>\n",
       "      <td>Présentation active</td>\n",
       "      <td>Déclaration de commercialisation</td>\n",
       "      <td>non</td>\n",
       "      <td>65%</td>\n",
       "      <td>orale</td>\n",
       "      <td>Autorisation active</td>\n",
       "      <td>Procédure nationale</td>\n",
       "    </tr>\n",
       "  </tbody>\n",
       "</table>\n",
       "</div>"
      ],
      "text/plain": [
       "                statut                              etat commerc agrement col  \\\n",
       "0  Présentation active          Déclaration de commercialisation          oui   \n",
       "1  Présentation active          Déclaration de commercialisation          oui   \n",
       "2  Présentation active          Déclaration de commercialisation          oui   \n",
       "3  Présentation active          Déclaration de commercialisation          oui   \n",
       "4  Présentation active  Déclaration d'arrêt de commercialisation          non   \n",
       "5  Présentation active          Déclaration de commercialisation          oui   \n",
       "6  Présentation active          Déclaration de commercialisation          oui   \n",
       "7  Présentation active          Déclaration de commercialisation          oui   \n",
       "8  Présentation active  Déclaration d'arrêt de commercialisation          oui   \n",
       "9  Présentation active          Déclaration de commercialisation          non   \n",
       "\n",
       "  tx rembours voies admin         statut admin  \\\n",
       "0         65%       orale  Autorisation active   \n",
       "1         65%       orale  Autorisation active   \n",
       "2         65%       orale  Autorisation active   \n",
       "3         65%       orale  Autorisation active   \n",
       "4        100%       orale  Autorisation active   \n",
       "5        100%       orale  Autorisation active   \n",
       "6        100%       orale  Autorisation active   \n",
       "7         65%       orale  Autorisation active   \n",
       "8         65%       orale  Autorisation active   \n",
       "9         65%       orale  Autorisation active   \n",
       "\n",
       "                              type proc  \n",
       "0               Procédure décentralisée  \n",
       "1  Procédure de reconnaissance mutuelle  \n",
       "2                   Procédure nationale  \n",
       "3                   Procédure nationale  \n",
       "4                   Procédure nationale  \n",
       "5                   Procédure nationale  \n",
       "6                 Procédure centralisée  \n",
       "7  Procédure de reconnaissance mutuelle  \n",
       "8                   Procédure nationale  \n",
       "9                   Procédure nationale  "
      ]
     },
     "execution_count": 10,
     "metadata": {},
     "output_type": "execute_result"
    }
   ],
   "source": [
    "data_train[var_cat].head(10)"
   ]
  },
  {
   "cell_type": "code",
   "execution_count": 11,
   "metadata": {
    "collapsed": false
   },
   "outputs": [],
   "source": [
    "for c in var_cat:\n",
    "    le = LabelEncoder()\n",
    "    le.fit(data_train[c].append(data_test[c]))\n",
    "    data_train[c] = le.transform(data_train[c])\n",
    "    data_test[c] = le.transform(data_test[c])"
   ]
  },
  {
   "cell_type": "code",
   "execution_count": 12,
   "metadata": {
    "collapsed": false,
    "scrolled": true
   },
   "outputs": [
    {
     "data": {
      "text/html": [
       "<div>\n",
       "<table border=\"1\" class=\"dataframe\">\n",
       "  <thead>\n",
       "    <tr style=\"text-align: right;\">\n",
       "      <th></th>\n",
       "      <th>statut</th>\n",
       "      <th>etat commerc</th>\n",
       "      <th>agrement col</th>\n",
       "      <th>tx rembours</th>\n",
       "      <th>voies admin</th>\n",
       "      <th>statut admin</th>\n",
       "      <th>type proc</th>\n",
       "    </tr>\n",
       "  </thead>\n",
       "  <tbody>\n",
       "    <tr>\n",
       "      <th>0</th>\n",
       "      <td>1</td>\n",
       "      <td>2</td>\n",
       "      <td>1</td>\n",
       "      <td>4</td>\n",
       "      <td>66</td>\n",
       "      <td>1</td>\n",
       "      <td>3</td>\n",
       "    </tr>\n",
       "    <tr>\n",
       "      <th>1</th>\n",
       "      <td>1</td>\n",
       "      <td>2</td>\n",
       "      <td>1</td>\n",
       "      <td>4</td>\n",
       "      <td>66</td>\n",
       "      <td>1</td>\n",
       "      <td>2</td>\n",
       "    </tr>\n",
       "    <tr>\n",
       "      <th>2</th>\n",
       "      <td>1</td>\n",
       "      <td>2</td>\n",
       "      <td>1</td>\n",
       "      <td>4</td>\n",
       "      <td>66</td>\n",
       "      <td>1</td>\n",
       "      <td>4</td>\n",
       "    </tr>\n",
       "    <tr>\n",
       "      <th>3</th>\n",
       "      <td>1</td>\n",
       "      <td>2</td>\n",
       "      <td>1</td>\n",
       "      <td>4</td>\n",
       "      <td>66</td>\n",
       "      <td>1</td>\n",
       "      <td>4</td>\n",
       "    </tr>\n",
       "    <tr>\n",
       "      <th>4</th>\n",
       "      <td>1</td>\n",
       "      <td>1</td>\n",
       "      <td>0</td>\n",
       "      <td>1</td>\n",
       "      <td>66</td>\n",
       "      <td>1</td>\n",
       "      <td>4</td>\n",
       "    </tr>\n",
       "    <tr>\n",
       "      <th>5</th>\n",
       "      <td>1</td>\n",
       "      <td>2</td>\n",
       "      <td>1</td>\n",
       "      <td>1</td>\n",
       "      <td>66</td>\n",
       "      <td>1</td>\n",
       "      <td>4</td>\n",
       "    </tr>\n",
       "    <tr>\n",
       "      <th>6</th>\n",
       "      <td>1</td>\n",
       "      <td>2</td>\n",
       "      <td>1</td>\n",
       "      <td>1</td>\n",
       "      <td>66</td>\n",
       "      <td>1</td>\n",
       "      <td>1</td>\n",
       "    </tr>\n",
       "    <tr>\n",
       "      <th>7</th>\n",
       "      <td>1</td>\n",
       "      <td>2</td>\n",
       "      <td>1</td>\n",
       "      <td>4</td>\n",
       "      <td>66</td>\n",
       "      <td>1</td>\n",
       "      <td>2</td>\n",
       "    </tr>\n",
       "    <tr>\n",
       "      <th>8</th>\n",
       "      <td>1</td>\n",
       "      <td>1</td>\n",
       "      <td>1</td>\n",
       "      <td>4</td>\n",
       "      <td>66</td>\n",
       "      <td>1</td>\n",
       "      <td>4</td>\n",
       "    </tr>\n",
       "    <tr>\n",
       "      <th>9</th>\n",
       "      <td>1</td>\n",
       "      <td>2</td>\n",
       "      <td>0</td>\n",
       "      <td>4</td>\n",
       "      <td>66</td>\n",
       "      <td>1</td>\n",
       "      <td>4</td>\n",
       "    </tr>\n",
       "  </tbody>\n",
       "</table>\n",
       "</div>"
      ],
      "text/plain": [
       "   statut  etat commerc  agrement col  tx rembours  voies admin  statut admin  \\\n",
       "0       1             2             1            4           66             1   \n",
       "1       1             2             1            4           66             1   \n",
       "2       1             2             1            4           66             1   \n",
       "3       1             2             1            4           66             1   \n",
       "4       1             1             0            1           66             1   \n",
       "5       1             2             1            1           66             1   \n",
       "6       1             2             1            1           66             1   \n",
       "7       1             2             1            4           66             1   \n",
       "8       1             1             1            4           66             1   \n",
       "9       1             2             0            4           66             1   \n",
       "\n",
       "   type proc  \n",
       "0          3  \n",
       "1          2  \n",
       "2          4  \n",
       "3          4  \n",
       "4          4  \n",
       "5          4  \n",
       "6          1  \n",
       "7          2  \n",
       "8          4  \n",
       "9          4  "
      ]
     },
     "execution_count": 12,
     "metadata": {},
     "output_type": "execute_result"
    }
   ],
   "source": [
    "data_train[var_cat].head(10)"
   ]
  },
  {
   "cell_type": "markdown",
   "metadata": {},
   "source": [
    "## Création du modèle prédictif\n",
    "Nous sommes maintenant prêt à définir un modèle prédictif des prix des médicaments.\n",
    "\n",
    "Nous allons tester plusieurs modèles :\n",
    "* Random Forest  \n",
    "* Gradient Tree Boosting  \n",
    "* Decision Tree Regression  \n",
    "* AdaBoost + Decision Tree\n",
    "\n",
    "Nous allons également utiliser toutes les variables à notre disposition, excepté les variables textuelles.\n",
    "\n",
    "Enfin, afin d'éviter le [surapprentissage](https://fr.wikipedia.org/wiki/Surapprentissage) et correctement estimer les performances de nos modèles, nous allons utiliser la [validation croisée](https://fr.wikipedia.org/wiki/Validation_crois%C3%A9e) avec le critère *k-fold*."
   ]
  },
  {
   "cell_type": "markdown",
   "metadata": {},
   "source": [
    "### Critère de performance\n",
    "Le challenge utilise la métrique [MAPE](https://en.wikipedia.org/wiki/Mean_absolute_percentage_error). Celle-ci n'étant pas disponible dans sklearn, nous la codons manuellement :"
   ]
  },
  {
   "cell_type": "code",
   "execution_count": 13,
   "metadata": {
    "collapsed": true
   },
   "outputs": [],
   "source": [
    "# Mean Absolute Percentage Error\n",
    "def mape_error(y_true, y_pred): \n",
    "    return np.mean(np.abs((y_true - y_pred) / y_true)) * 100"
   ]
  },
  {
   "cell_type": "markdown",
   "metadata": {},
   "source": [
    "### Validation croisée\n",
    "[Documentation](http://scikit-learn.org/stable/modules/generated/sklearn.cross_validation.KFold.html) de la fonction KFold() de validation croisée de sklearn.\n",
    "\n",
    "> K-Folds cross validation iterator.  \n",
    "> Provides train/test indices to split data in train test sets. Split dataset into k consecutive folds (without shuffling by default).  \n",
    "> Each fold is then used a validation set once while the k - 1 remaining fold form the training set.\n",
    "\n",
    "Prend comme paramètres d'entrée :\n",
    "* le nombre total d'éléments, ici data_train.shape[0] = 8564  \n",
    "* le nombre de fold à effectuer, ici NBROUND = 5"
   ]
  },
  {
   "cell_type": "markdown",
   "metadata": {},
   "source": [
    "### Importance relative des variables dans le modèle Random Forest\n",
    "Cette fonction (à garder dans notre toolbox) permet d'interpréter quelque peu les résultats de nos *Random Forest*."
   ]
  },
  {
   "cell_type": "code",
   "execution_count": 26,
   "metadata": {
    "collapsed": true
   },
   "outputs": [],
   "source": [
    "def reg_importance(X, reg):\n",
    "    importances = reg.feature_importances_\n",
    "    indices = np.argsort(importances)[::-1]\n",
    "    plt.title(\"Feature importances\")\n",
    "    for tree in clf.estimators_:\n",
    "        plt.plot(range(X.shape[1]), tree.feature_importances_[indices], \"r\")\n",
    "    plt.plot(range(X.shape[1]), importances[indices], \"b\")\n",
    "    plt.show()\n",
    "    for f in range(X.shape[1]):\n",
    "        print(\"%d. feature: %s (%f)\" % (f+1, X.columns[indices[f]], importances[indices[f]]))"
   ]
  },
  {
   "cell_type": "code",
   "execution_count": 15,
   "metadata": {
    "collapsed": false
   },
   "outputs": [
    {
     "name": "stdout",
     "output_type": "stream",
     "text": [
      "*** Random Forest MAPE Error :  59.77102972778389\n"
     ]
    }
   ],
   "source": [
    "NBROUND = 5\n",
    "VARIABLES = var_num+var_cat+var_dates\n",
    "# Random Forest Model\n",
    "params = {'n_estimators': 10, 'min_samples_leaf': 1, 'n_jobs': -1}\n",
    "err = 0\n",
    "for train_index, test_index in KFold(data_train.shape[0], n_folds=NBROUND):\n",
    "    y = data_train['logprix']\n",
    "    X = data_train[VARIABLES]\n",
    "    X_train, X_test = X.ix[train_index, :], X.ix[test_index, :]\n",
    "    y_train, y_test = y[train_index], y[test_index]\n",
    "    clf = RandomForestRegressor(**params)\n",
    "    clf.fit(X_train, y_train)\n",
    "    pred = clf.predict(X_test)\n",
    "    # ne pas oublier de reprendre l'exponentielle de la prédiction\n",
    "    err += mape_error(np.exp(y_test), np.exp(pred))\n",
    "    #print (mape_error(np.exp(y_test), np.exp(pred)))\n",
    "print (\"*** Random Forest MAPE Error : \", err / NBROUND)"
   ]
  },
  {
   "cell_type": "code",
   "execution_count": 16,
   "metadata": {
    "collapsed": false
   },
   "outputs": [
    {
     "name": "stdout",
     "output_type": "stream",
     "text": [
      "*** Gradient Tree Boosting MAPE Error :  75.07115315649806\n"
     ]
    }
   ],
   "source": [
    "NBROUND = 5\n",
    "VARIABLES = var_num+var_cat+var_dates\n",
    "# Gradient Tree Boosting Model\n",
    "params = {'n_estimators': 500, 'max_depth': 4, 'min_samples_split': 1,\n",
    "          'learning_rate': 0.01, 'loss': 'ls'}\n",
    "err = 0\n",
    "for train_index, test_index in KFold(data_train.shape[0], n_folds=NBROUND):\n",
    "    y = data_train['logprix']\n",
    "    X = data_train[VARIABLES]\n",
    "    X_train, X_test = X.ix[train_index, :], X.ix[test_index, :]\n",
    "    y_train, y_test = y[train_index], y[test_index]\n",
    "    clf = GradientBoostingRegressor(**params)\n",
    "    clf.fit(X_train, y_train)\n",
    "    pred = clf.predict(X_test)\n",
    "    # ne pas oublier de reprendre l'exponentielle de la prédiction\n",
    "    err += mape_error(np.exp(y_test), np.exp(pred))\n",
    "    #print (mape_error(np.exp(y_test), np.exp(pred)))\n",
    "print (\"*** Gradient Tree Boosting MAPE Error : \", err / NBROUND)"
   ]
  },
  {
   "cell_type": "code",
   "execution_count": 17,
   "metadata": {
    "collapsed": false
   },
   "outputs": [
    {
     "name": "stdout",
     "output_type": "stream",
     "text": [
      "*** Decision Tree Regression MAPE Error :  82.04440267298487\n"
     ]
    }
   ],
   "source": [
    "NBROUND = 5\n",
    "VARIABLES = var_num+var_cat+var_dates\n",
    "# Decision Tree Regression Model\n",
    "err = 0\n",
    "for train_index, test_index in KFold(data_train.shape[0], n_folds=NBROUND):\n",
    "    y = data_train['logprix']\n",
    "    X = data_train[VARIABLES]\n",
    "    X_train, X_test = X.ix[train_index, :], X.ix[test_index, :]\n",
    "    y_train, y_test = y[train_index], y[test_index]\n",
    "    clf = DecisionTreeRegressor()\n",
    "    clf.fit(X_train, y_train)\n",
    "    pred = clf.predict(X_test)\n",
    "    # ne pas oublier de reprendre l'exponentielle de la prédiction\n",
    "    err += mape_error(np.exp(y_test), np.exp(pred))\n",
    "    #print (mape_error(np.exp(y_test), np.exp(pred)))\n",
    "print (\"*** Decision Tree Regression MAPE Error : \", err / NBROUND)"
   ]
  },
  {
   "cell_type": "code",
   "execution_count": 18,
   "metadata": {
    "collapsed": false
   },
   "outputs": [
    {
     "name": "stdout",
     "output_type": "stream",
     "text": [
      "*** AdaBoost + Decision Tree MAPE Error :  70.70283005619466\n"
     ]
    }
   ],
   "source": [
    "NBROUND = 5\n",
    "VARIABLES = var_num+var_cat+var_dates\n",
    "# Adaboost Decision Tree Model\n",
    "err = 0\n",
    "for train_index, test_index in KFold(data_train.shape[0], n_folds=NBROUND):\n",
    "    y = data_train['logprix']\n",
    "    X = data_train[VARIABLES]\n",
    "    X_train, X_test = X.ix[train_index, :], X.ix[test_index, :]\n",
    "    y_train, y_test = y[train_index], y[test_index]\n",
    "    clf = AdaBoostRegressor(DecisionTreeRegressor(), n_estimators=300)\n",
    "    clf.fit(X_train, y_train)\n",
    "    pred = clf.predict(X_test)\n",
    "    # ne pas oublier de reprendre l'exponentielle de la prédiction\n",
    "    err += mape_error(np.exp(y_test), np.exp(pred))\n",
    "    #print (mape_error(np.exp(y_test), np.exp(pred)))\n",
    "print (\"*** AdaBoost + Decision Tree MAPE Error : \", err / NBROUND)"
   ]
  },
  {
   "cell_type": "markdown",
   "metadata": {},
   "source": [
    "Notre modèle *Random Forest* prédit les prix des médicaments avec une erreur d'environ 61%. Pour un prix de médicament réel de 10€, notre modèle prédira soit 3.9€, soit 16.1€.\n",
    "\n",
    "Notre modèle *Gradient Tree Boosting* prédit avec une plus grande erreur, environ 75%.\n",
    "\n",
    "Notre modèle *Decision Tree Regression* est encore plus mauvais, avec une erreur d'environ 85%.\n",
    "\n",
    "Enfin un modèle *AdaBoost + Decision Tree* nous donne une erreur d'environ 70%.\n",
    "\n",
    "Nous allons donc nous concentrer sur un modèle *Random Forest Regression* pour la suite de cette analyse."
   ]
  },
  {
   "cell_type": "code",
   "execution_count": 27,
   "metadata": {
    "collapsed": false
   },
   "outputs": [
    {
     "data": {
      "image/png": "[encoded data removed]",
      "text/plain": [
       "<matplotlib.figure.Figure at 0x111572e48>"
      ]
     },
     "metadata": {},
     "output_type": "display_data"
    },
    {
     "name": "stdout",
     "output_type": "stream",
     "text": [
      "1. feature: type proc (0.220254)\n",
      "2. feature: nb_comprime (0.164878)\n",
      "3. feature: tx rembours (0.119787)\n",
      "4. feature: date amm annee (0.113881)\n",
      "5. feature: date declar annee (0.087211)\n",
      "6. feature: voies admin (0.068129)\n",
      "7. feature: nb_ml (0.047259)\n",
      "8. feature: nb_gelule (0.038045)\n",
      "9. feature: nb_seringue (0.027173)\n",
      "10. feature: libelle_plaquette (0.018069)\n",
      "11. feature: nb_plaquette (0.010773)\n",
      "12. feature: libelle_flacon (0.010431)\n",
      "13. feature: nb_sachet (0.008838)\n",
      "14. feature: libelle_seringue (0.007563)\n",
      "15. feature: agrement col (0.006673)\n",
      "16. feature: nb_flacon (0.006296)\n",
      "17. feature: nb_poche (0.006138)\n",
      "18. feature: statut admin (0.005307)\n",
      "19. feature: etat commerc (0.004390)\n",
      "20. feature: libelle_gelule (0.004334)\n",
      "21. feature: nb_ampoule (0.004307)\n",
      "22. feature: libelle_tube (0.003276)\n",
      "23. feature: libelle_poche (0.003179)\n",
      "24. feature: nb_capsule (0.002338)\n",
      "25. feature: libelle_comprime (0.001999)\n",
      "26. feature: nb_tube (0.001932)\n",
      "27. feature: libelle_stylo (0.001679)\n",
      "28. feature: libelle_sachet (0.001668)\n",
      "29. feature: libelle_pilulier (0.001045)\n",
      "30. feature: nb_pilulier (0.000841)\n",
      "31. feature: nb_stylo (0.000636)\n",
      "32. feature: libelle_capsule (0.000576)\n",
      "33. feature: libelle_ampoule (0.000522)\n",
      "34. feature: libelle_film (0.000451)\n",
      "35. feature: statut (0.000076)\n",
      "36. feature: nb_film (0.000047)\n"
     ]
    },
    {
     "data": {
      "image/png": "[encoded data removed]",
      "text/plain": [
       "<matplotlib.figure.Figure at 0x1259c6128>"
      ]
     },
     "metadata": {},
     "output_type": "display_data"
    },
    {
     "name": "stdout",
     "output_type": "stream",
     "text": [
      "1. feature: type proc (0.232464)\n",
      "2. feature: nb_comprime (0.166939)\n",
      "3. feature: tx rembours (0.114639)\n",
      "4. feature: date amm annee (0.107061)\n",
      "5. feature: date declar annee (0.085425)\n",
      "6. feature: voies admin (0.055475)\n",
      "7. feature: nb_ml (0.048539)\n",
      "8. feature: nb_gelule (0.041627)\n",
      "9. feature: nb_seringue (0.032029)\n",
      "10. feature: libelle_plaquette (0.030140)\n",
      "11. feature: nb_plaquette (0.011134)\n",
      "12. feature: libelle_flacon (0.008785)\n",
      "13. feature: nb_sachet (0.007806)\n",
      "14. feature: etat commerc (0.005938)\n",
      "15. feature: statut admin (0.005651)\n",
      "16. feature: nb_flacon (0.005365)\n",
      "17. feature: agrement col (0.005048)\n",
      "18. feature: nb_ampoule (0.004978)\n",
      "19. feature: nb_poche (0.004124)\n",
      "20. feature: libelle_poche (0.003802)\n",
      "21. feature: libelle_seringue (0.003757)\n",
      "22. feature: libelle_tube (0.003622)\n",
      "23. feature: libelle_comprime (0.002577)\n",
      "24. feature: nb_capsule (0.002279)\n",
      "25. feature: libelle_gelule (0.002240)\n",
      "26. feature: nb_pilulier (0.001675)\n",
      "27. feature: nb_tube (0.001654)\n",
      "28. feature: libelle_ampoule (0.001451)\n",
      "29. feature: libelle_pilulier (0.000868)\n",
      "30. feature: libelle_capsule (0.000793)\n",
      "31. feature: libelle_stylo (0.000786)\n",
      "32. feature: libelle_sachet (0.000647)\n",
      "33. feature: libelle_film (0.000299)\n",
      "34. feature: nb_stylo (0.000293)\n",
      "35. feature: statut (0.000050)\n",
      "36. feature: nb_film (0.000040)\n"
     ]
    },
    {
     "data": {
      "image/png": "[encoded data removed]",
      "text/plain": [
       "<matplotlib.figure.Figure at 0x11147d588>"
      ]
     },
     "metadata": {},
     "output_type": "display_data"
    },
    {
     "name": "stdout",
     "output_type": "stream",
     "text": [
      "1. feature: type proc (0.216356)\n",
      "2. feature: nb_comprime (0.173643)\n",
      "3. feature: tx rembours (0.115953)\n",
      "4. feature: date amm annee (0.105142)\n",
      "5. feature: date declar annee (0.088376)\n",
      "6. feature: voies admin (0.064167)\n",
      "7. feature: nb_ml (0.044969)\n",
      "8. feature: nb_gelule (0.041327)\n",
      "9. feature: nb_seringue (0.031526)\n",
      "10. feature: libelle_plaquette (0.021140)\n",
      "11. feature: nb_plaquette (0.009686)\n",
      "12. feature: nb_sachet (0.008573)\n",
      "13. feature: nb_flacon (0.008148)\n",
      "14. feature: nb_poche (0.008125)\n",
      "15. feature: libelle_seringue (0.007920)\n",
      "16. feature: libelle_flacon (0.006669)\n",
      "17. feature: agrement col (0.006262)\n",
      "18. feature: statut admin (0.005598)\n",
      "19. feature: etat commerc (0.005540)\n",
      "20. feature: libelle_tube (0.004117)\n",
      "21. feature: libelle_gelule (0.003971)\n",
      "22. feature: libelle_poche (0.003495)\n",
      "23. feature: libelle_comprime (0.003273)\n",
      "24. feature: nb_ampoule (0.002756)\n",
      "25. feature: nb_capsule (0.002753)\n",
      "26. feature: libelle_stylo (0.002295)\n",
      "27. feature: nb_pilulier (0.001693)\n",
      "28. feature: nb_tube (0.001607)\n",
      "29. feature: libelle_ampoule (0.001266)\n",
      "30. feature: libelle_pilulier (0.001107)\n",
      "31. feature: libelle_sachet (0.001060)\n",
      "32. feature: libelle_film (0.000462)\n",
      "33. feature: libelle_capsule (0.000431)\n",
      "34. feature: nb_stylo (0.000425)\n",
      "35. feature: nb_film (0.000097)\n",
      "36. feature: statut (0.000070)\n"
     ]
    },
    {
     "data": {
      "image/png": "[encoded data removed]",
      "text/plain": [
       "<matplotlib.figure.Figure at 0x126e213c8>"
      ]
     },
     "metadata": {},
     "output_type": "display_data"
    },
    {
     "name": "stdout",
     "output_type": "stream",
     "text": [
      "1. feature: type proc (0.214679)\n",
      "2. feature: nb_comprime (0.170931)\n",
      "3. feature: date amm annee (0.114393)\n",
      "4. feature: tx rembours (0.114320)\n",
      "5. feature: date declar annee (0.086733)\n",
      "6. feature: voies admin (0.057082)\n",
      "7. feature: nb_ml (0.046977)\n",
      "8. feature: nb_gelule (0.038044)\n",
      "9. feature: nb_seringue (0.034398)\n",
      "10. feature: libelle_plaquette (0.026599)\n",
      "11. feature: libelle_seringue (0.011072)\n",
      "12. feature: nb_plaquette (0.010013)\n",
      "13. feature: libelle_flacon (0.009054)\n",
      "14. feature: nb_flacon (0.008563)\n",
      "15. feature: nb_sachet (0.007339)\n",
      "16. feature: statut admin (0.006291)\n",
      "17. feature: nb_poche (0.006185)\n",
      "18. feature: agrement col (0.005756)\n",
      "19. feature: etat commerc (0.005055)\n",
      "20. feature: nb_ampoule (0.004179)\n",
      "21. feature: libelle_tube (0.003989)\n",
      "22. feature: libelle_gelule (0.003448)\n",
      "23. feature: libelle_comprime (0.003074)\n",
      "24. feature: nb_capsule (0.002277)\n",
      "25. feature: nb_tube (0.001760)\n",
      "26. feature: nb_pilulier (0.001389)\n",
      "27. feature: libelle_stylo (0.001278)\n",
      "28. feature: libelle_ampoule (0.001257)\n",
      "29. feature: libelle_sachet (0.000801)\n",
      "30. feature: libelle_pilulier (0.000729)\n",
      "31. feature: libelle_film (0.000725)\n",
      "32. feature: libelle_capsule (0.000667)\n",
      "33. feature: nb_stylo (0.000413)\n",
      "34. feature: libelle_poche (0.000348)\n",
      "35. feature: statut (0.000096)\n",
      "36. feature: nb_film (0.000084)\n"
     ]
    },
    {
     "data": {
      "image/png": "[encoded data removed]",
      "text/plain": [
       "<matplotlib.figure.Figure at 0x134e347f0>"
      ]
     },
     "metadata": {},
     "output_type": "display_data"
    },
    {
     "name": "stdout",
     "output_type": "stream",
     "text": [
      "1. feature: type proc (0.224305)\n",
      "2. feature: nb_comprime (0.166451)\n",
      "3. feature: tx rembours (0.115304)\n",
      "4. feature: date amm annee (0.113751)\n",
      "5. feature: date declar annee (0.089368)\n",
      "6. feature: voies admin (0.056618)\n",
      "7. feature: nb_ml (0.051476)\n",
      "8. feature: nb_gelule (0.043182)\n",
      "9. feature: nb_seringue (0.032021)\n",
      "10. feature: libelle_plaquette (0.022426)\n",
      "11. feature: nb_plaquette (0.010734)\n",
      "12. feature: libelle_flacon (0.007937)\n",
      "13. feature: nb_sachet (0.007293)\n",
      "14. feature: agrement col (0.006674)\n",
      "15. feature: nb_flacon (0.005999)\n",
      "16. feature: statut admin (0.005178)\n",
      "17. feature: etat commerc (0.005109)\n",
      "18. feature: nb_poche (0.004966)\n",
      "19. feature: libelle_seringue (0.004786)\n",
      "20. feature: nb_ampoule (0.003850)\n",
      "21. feature: libelle_gelule (0.003073)\n",
      "22. feature: libelle_poche (0.002913)\n",
      "23. feature: libelle_tube (0.002587)\n",
      "24. feature: libelle_comprime (0.002200)\n",
      "25. feature: nb_pilulier (0.001829)\n",
      "26. feature: nb_capsule (0.001703)\n",
      "27. feature: nb_tube (0.001584)\n",
      "28. feature: libelle_stylo (0.001525)\n",
      "29. feature: libelle_ampoule (0.001381)\n",
      "30. feature: libelle_capsule (0.001071)\n",
      "31. feature: libelle_film (0.000850)\n",
      "32. feature: libelle_sachet (0.000765)\n",
      "33. feature: libelle_pilulier (0.000699)\n",
      "34. feature: nb_stylo (0.000246)\n",
      "35. feature: statut (0.000096)\n",
      "36. feature: nb_film (0.000050)\n",
      "*** Random Forest MAPE Error :  60.217430384828745\n"
     ]
    }
   ],
   "source": [
    "NBROUND = 5\n",
    "VARIABLES = var_num+var_cat+var_dates\n",
    "# Random Forest Model\n",
    "params = {'n_estimators': 10, 'criterion':'mse', 'n_jobs': -1}\n",
    "err = 0\n",
    "for train_index, test_index in KFold(data_train.shape[0], n_folds=NBROUND):\n",
    "    y = data_train['logprix']\n",
    "    X = data_train[VARIABLES]\n",
    "    X_train, X_test = X.ix[train_index, :], X.ix[test_index, :]\n",
    "    y_train, y_test = y[train_index], y[test_index]\n",
    "    reg = RandomForestRegressor(**params)\n",
    "    reg.fit(X_train, y_train)\n",
    "    reg_importance(X_train, reg)\n",
    "    pred = reg.predict(X_test)\n",
    "    # ne pas oublier de reprendre l'exponentielle de la prédiction\n",
    "    err += mape_error(np.exp(y_test), np.exp(pred))\n",
    "    #print (mape_error(np.exp(y_test), np.exp(pred)))\n",
    "print (\"*** Random Forest MAPE Error : \", err / NBROUND)"
   ]
  },
  {
   "cell_type": "markdown",
   "metadata": {},
   "source": [
    "Nous observons que les variables (>0.01):\n",
    "* type proc  \n",
    "* nb_comprime  \n",
    "* date amm annee\n",
    "* date declar annee  \n",
    "* voies admin  \n",
    "* nb_ml  \n",
    "* nb_gelule  \n",
    "* nb_seringue  \n",
    "* libelle_plaquette  \n",
    "* libelle_seringue  \n",
    "* nb_plaquette\n",
    "\n",
    "ont le plus importance de contribution dans le modèle.\n",
    "\n",
    "Concentrons nous sur elles."
   ]
  },
  {
   "cell_type": "markdown",
   "metadata": {},
   "source": [
    "#### Recursive Feature Elimination\n",
    "Vérifions que ce sont bien les variables les plus importantes, à l'aide de RFE"
   ]
  },
  {
   "cell_type": "code",
   "execution_count": 49,
   "metadata": {
    "collapsed": false
   },
   "outputs": [
    {
     "name": "stdout",
     "output_type": "stream",
     "text": [
      "10\n",
      "[ True False False False False False False False False False False False\n",
      " False False False False False False  True False False  True  True False\n",
      " False False  True False False False  True  True False  True  True  True]\n",
      "[ 1 22  2 12 17  9 21 24 15 13 25 16 20  5 11  7 19 23  1 18  3  1  1 27  6\n",
      " 14  1 26 10  4  1  1  8  1  1  1]\n",
      "['libelle_plaquette' 'nb_seringue' 'nb_comprime' 'nb_gelule' 'nb_ml'\n",
      " 'tx rembours' 'voies admin' 'type proc' 'date declar annee'\n",
      " 'date amm annee']\n"
     ]
    }
   ],
   "source": [
    "from sklearn.feature_selection import RFE\n",
    "VARIABLES = var_num+var_cat+var_dates\n",
    "params = {'n_estimators': 10, 'criterion':'mse', 'n_jobs': -1}\n",
    "y = data_train['logprix']\n",
    "X = data_train[VARIABLES]\n",
    "X_train, X_test = X.ix[train_index, :], X.ix[test_index, :]\n",
    "y_train, y_test = y[train_index], y[test_index]\n",
    "reg = RandomForestRegressor(**params)\n",
    "rfe = RFE(reg, 10)\n",
    "fit = rfe.fit(X_train, y_train)\n",
    "print(fit.n_features_)\n",
    "print(fit.support_)\n",
    "print(fit.ranking_)\n",
    "import numpy.ma as ma\n",
    "var_focus = ma.masked_array(VARIABLES, mask=~fit.support_).compressed()\n",
    "print(var_focus)"
   ]
  },
  {
   "cell_type": "code",
   "execution_count": 51,
   "metadata": {
    "collapsed": false
   },
   "outputs": [
    {
     "name": "stdout",
     "output_type": "stream",
     "text": [
      "*** Random Forest MAPE Error :  61.57687210462733\n"
     ]
    }
   ],
   "source": [
    "NBROUND = 50\n",
    "VARIABLES = var_focus\n",
    "# Random Forest Model\n",
    "params = {'n_estimators': 10, 'criterion':'mse', 'n_jobs': -1}\n",
    "err = 0\n",
    "for train_index, test_index in KFold(data_train.shape[0], n_folds=NBROUND):\n",
    "    y = data_train['logprix']\n",
    "    X = data_train[VARIABLES]\n",
    "    X_train, X_test = X.ix[train_index, :], X.ix[test_index, :]\n",
    "    y_train, y_test = y[train_index], y[test_index]\n",
    "    reg = RandomForestRegressor(**params)\n",
    "    reg.fit(X_train, y_train)\n",
    "    pred = reg.predict(X_test)\n",
    "    # ne pas oublier de reprendre l'exponentielle de la prédiction\n",
    "    err += mape_error(np.exp(y_test), np.exp(pred))\n",
    "    #print (mape_error(np.exp(y_test), np.exp(pred)))\n",
    "print (\"*** Random Forest MAPE Error : \", err / NBROUND)"
   ]
  },
  {
   "cell_type": "markdown",
   "metadata": {},
   "source": [
    "This does not improve much the result. Let's try something else, using XGBoost. **NOT WORKING YET! NEED TO INSTALL XGBOOST LIB**"
   ]
  },
  {
   "cell_type": "markdown",
   "metadata": {},
   "source": [
    "## Search for best estimator\n",
    "Nous allons essayer de trouver le meilleur estimateur en effectuant un tuning des paramètres.\n",
    "\n",
    "Pour cela, nous allons utiliser un *Grid Search* et un *Randomize Search*.\n",
    "\n",
    "Tout d'abord, définissons une fonction afin de retourner de manière lisible les résultats obtenus."
   ]
  },
  {
   "cell_type": "code",
   "execution_count": 66,
   "metadata": {
    "collapsed": true
   },
   "outputs": [],
   "source": [
    "# Utility function to report best scores\n",
    "from operator import itemgetter\n",
    "def report(grid_scores, n_top=3):\n",
    "    top_scores = sorted(grid_scores, key=itemgetter(1), reverse=True)[:n_top]\n",
    "    for i, score in enumerate(top_scores):\n",
    "        print(\"Model with rank: {0}\".format(i + 1))\n",
    "        print(\"Mean validation score: {0:.3f} (std: {1:.3f})\".format(\n",
    "              score.mean_validation_score,\n",
    "              np.std(score.cv_validation_scores)))\n",
    "        print(\"Parameters: {0}\".format(score.parameters))\n",
    "        print(\"\")"
   ]
  },
  {
   "cell_type": "markdown",
   "metadata": {},
   "source": [
    "Ensuite, chargeons les modules nécessaires."
   ]
  },
  {
   "cell_type": "code",
   "execution_count": 55,
   "metadata": {
    "collapsed": true
   },
   "outputs": [],
   "source": [
    "from sklearn.grid_search import GridSearchCV, RandomizedSearchCV"
   ]
  },
  {
   "cell_type": "markdown",
   "metadata": {},
   "source": [
    "Spécifions les paramètres à explorer."
   ]
  },
  {
   "cell_type": "code",
   "execution_count": 64,
   "metadata": {
    "collapsed": false
   },
   "outputs": [],
   "source": [
    "# specify parameters and distributions to sample from\n",
    "param_dist = {\"max_depth\": [3, None],\n",
    "              \"max_features\": sp_randint(1, 11),\n",
    "              \"min_samples_split\": sp_randint(1, 11),\n",
    "              \"min_samples_leaf\": sp_randint(1, 11),\n",
    "              \"bootstrap\": [True, False]}"
   ]
  },
  {
   "cell_type": "code",
   "execution_count": 62,
   "metadata": {
    "collapsed": true
   },
   "outputs": [],
   "source": [
    "from time import time\n",
    "from scipy.stats import randint as sp_randint"
   ]
  },
  {
   "cell_type": "code",
   "execution_count": 67,
   "metadata": {
    "collapsed": false
   },
   "outputs": [
    {
     "name": "stdout",
     "output_type": "stream",
     "text": [
      "RandomizedSearchCV took 13.49 seconds for 20 candidates parameter settings.\n",
      "Model with rank: 1\n",
      "Mean validation score: 0.657 (std: 0.003)\n",
      "Parameters: {'min_samples_leaf': 2, 'min_samples_split': 2, 'max_features': 8, 'max_depth': None, 'bootstrap': True}\n",
      "\n",
      "Model with rank: 2\n",
      "Mean validation score: 0.654 (std: 0.004)\n",
      "Parameters: {'min_samples_leaf': 7, 'min_samples_split': 7, 'max_features': 4, 'max_depth': None, 'bootstrap': False}\n",
      "\n",
      "Model with rank: 3\n",
      "Mean validation score: 0.652 (std: 0.009)\n",
      "Parameters: {'min_samples_leaf': 3, 'min_samples_split': 6, 'max_features': 10, 'max_depth': None, 'bootstrap': True}\n",
      "\n"
     ]
    }
   ],
   "source": [
    "y = data_train['logprix']\n",
    "X = data_train[VARIABLES]\n",
    "X_train, X_test = X.ix[train_index, :], X.ix[test_index, :]\n",
    "y_train, y_test = y[train_index], y[test_index]\n",
    "reg = RandomForestRegressor(**params)\n",
    "\n",
    "n_iter_search = 20\n",
    "random_search = RandomizedSearchCV(reg, param_distributions=param_dist,\n",
    "                                   n_iter=n_iter_search)\n",
    "\n",
    "start = time()\n",
    "random_search.fit(X, y)\n",
    "print(\"RandomizedSearchCV took %.2f seconds for %d candidates\"\n",
    "      \" parameter settings.\" % ((time() - start), n_iter_search))\n",
    "report(random_search.grid_scores_)"
   ]
  },
  {
   "cell_type": "code",
   "execution_count": 68,
   "metadata": {
    "collapsed": false
   },
   "outputs": [
    {
     "name": "stdout",
     "output_type": "stream",
     "text": [
      "*** Random Forest MAPE Error :  60.9143905643613\n"
     ]
    }
   ],
   "source": [
    "NBROUND = 50\n",
    "VARIABLES = var_focus\n",
    "# Random Forest Model\n",
    "params = {'n_estimators': 10, 'min_samples_leaf':2, 'min_samples_split': 2, 'max_features': 8, 'max_depth': None, 'bootstrap': True, 'n_jobs': -1}\n",
    "err = 0\n",
    "for train_index, test_index in KFold(data_train.shape[0], n_folds=NBROUND):\n",
    "    y = data_train['logprix']\n",
    "    X = data_train[VARIABLES]\n",
    "    X_train, X_test = X.ix[train_index, :], X.ix[test_index, :]\n",
    "    y_train, y_test = y[train_index], y[test_index]\n",
    "    reg = RandomForestRegressor(**params)\n",
    "    reg.fit(X_train, y_train)\n",
    "    pred = reg.predict(X_test)\n",
    "    # ne pas oublier de reprendre l'exponentielle de la prédiction\n",
    "    err += mape_error(np.exp(y_test), np.exp(pred))\n",
    "    #print (mape_error(np.exp(y_test), np.exp(pred)))\n",
    "print (\"*** Random Forest MAPE Error : \", err / NBROUND)"
   ]
  },
  {
   "cell_type": "code",
   "execution_count": null,
   "metadata": {
    "collapsed": true
   },
   "outputs": [],
   "source": []
  },
  {
   "cell_type": "markdown",
   "metadata": {},
   "source": [
    "## Prédictions et soumission\n",
    "### Calcul des prédictions\n",
    "Nous allons maintenant entrainer notre modèle sur l'intégralité des données train, avant d'effectuer une prédiction pour les données test."
   ]
  },
  {
   "cell_type": "code",
   "execution_count": 69,
   "metadata": {
    "collapsed": true
   },
   "outputs": [],
   "source": [
    "reg = RandomForestRegressor(**params)\n",
    "reg.fit(data_train[VARIABLES], data_train['logprix'])\n",
    "# ATTENTION !! Bien penser à transformer les prédictions obtenues dans l'espace linéaire.\n",
    "predictions = np.exp(reg.predict(data_test[VARIABLES]))"
   ]
  },
  {
   "cell_type": "markdown",
   "metadata": {},
   "source": [
    "### Création du fichier de soumission\n",
    "Sauvegardons maintenant nos prédictions dans le *soumission.csv* pour le soumettre à datascience.net"
   ]
  },
  {
   "cell_type": "code",
   "execution_count": 70,
   "metadata": {
    "collapsed": false
   },
   "outputs": [],
   "source": [
    "pd.DataFrame(predictions, index=data_test['id']).to_csv('soumission.csv',  \n",
    "                          header=['prix'],\n",
    "                          sep = ';')"
   ]
  },
  {
   "cell_type": "markdown",
   "metadata": {},
   "source": [
    "# Félicitations\n",
    "Nous venons d'analyser notre premier set de donnée. Soumettons notre fichier afin de comparer notre modèle à celui des autres Data Scientist du challenge. Puis amusons-nous à améliorer ce modèle !"
   ]
  },
  {
   "cell_type": "markdown",
   "metadata": {},
   "source": []
  }
 ],
 "metadata": {
  "kernelspec": {
   "display_name": "Python 3",
   "language": "python",
   "name": "python3"
  },
  "language_info": {
   "codemirror_mode": {
    "name": "ipython",
    "version": 3
   },
   "file_extension": ".py",
   "mimetype": "text/x-python",
   "name": "python",
   "nbconvert_exporter": "python",
   "pygments_lexer": "ipython3",
   "version": "3.5.2"
  }
 },
 "nbformat": 4,
 "nbformat_minor": 0
}
